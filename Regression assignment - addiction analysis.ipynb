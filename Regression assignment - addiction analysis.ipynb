{
 "cells": [
  {
   "cell_type": "markdown",
   "metadata": {},
   "source": [
    "## Regression assignment - addiction analysis\n",
    "\n",
    "### Using lightgbm algorithm, The experimental results of the ensemble model will be compared with the results of a single model.\n",
    "\n",
    "### lightgbm algorithm : The existing Boosting models used a level-wise increase of the tree, but the lightgbm model used a leaf-wise tree segmentation.\n",
    "\n",
    "* Feature of lightgbm model\n",
    "\n",
    "\n",
    "| lightgbm |\n",
    "|:---:|\n",
    "| large amount data processing is possible|\n",
    "|Use fewer memory than other models|\n",
    "|GPU support|\n",
    "|Overfitting problem occurs when using too few data||\n",
    "![image](https://user-images.githubusercontent.com/56014940/83352030-aa371000-a383-11ea-80af-422f18f2bb24.png)\n",
    "\n",
    "### GradientBoosting hyperparameters\n",
    ">- criterion : loss function metric\n",
    ">- learning rate: pruning or set number of tree.\n",
    "> - n_estimators : Number of tree\n",
    "\n",
    "### Lightgbm hyperparameters\n",
    "> - n_estimators : Number of tree\n",
    "> - learning_rate : learning rate\n",
    "> - max_depth : Maximum depth of tree\n",
    "> - min_child_samples : Number of minimum data sample to get leaf node\n",
    "> - num_leaves : Number of maximun leaf each of one tree\n",
    "> - feature_fraction : ratio of feature during training tree\n",
    "> - reg_lambda : L2 regularization\n",
    "> - reg_alpha : L1 regularization\n",
    "> - objective : choose task {regression, binary, lambdarank, multiclass}\n",
    "> - metric : choose loss function. {mae, mse, rmse, huber, fair, poisson, ..., etc}\n",
    "> - is_training_metric : set this to true if need to output metric result of training\n",
    "> - bagging_fraction : random select part of data\n",
    "> - bagging_freq : perform bagging at every k iteration\n",
    "> - seed : set random seed."
   ]
  },
  {
   "cell_type": "markdown",
   "metadata": {},
   "source": [
    "### Data analysis\n",
    "\n",
    "#### Raw data"
   ]
  },
  {
   "cell_type": "code",
   "execution_count": 185,
   "metadata": {},
   "outputs": [],
   "source": [
    "#!pip install lightgbm"
   ]
  },
  {
   "cell_type": "code",
   "execution_count": 186,
   "metadata": {},
   "outputs": [
    {
     "name": "stdout",
     "output_type": "stream",
     "text": [
      "(1030, 8) (1030,)\n"
     ]
    }
   ],
   "source": [
    "import numpy as np\n",
    "import pandas as pd\n",
    "data = pd.read_csv(\"compresive_strength_concrete.csv\")\n",
    "data.columns = ['Cement', 'Blast_Furnace_Slag', 'Fly_Ash', 'Water', 'Superplasticizer', 'Coarse_Aggregate', 'Fine_Aggregate',\n",
    "                'Age', 'Concrete_compressive_strength']\n",
    "\n",
    "x, y = data.iloc[:,0:-1], data.iloc[:,-1]\n",
    "print(x.shape, y.shape)"
   ]
  },
  {
   "cell_type": "code",
   "execution_count": 187,
   "metadata": {},
   "outputs": [],
   "source": [
    "from sklearn.model_selection import train_test_split\n",
    "\n",
    "x_train, x_test, y_train, y_test = train_test_split(x, y, train_size=0.7, test_size=0.3, random_state=142)"
   ]
  },
  {
   "cell_type": "code",
   "execution_count": 188,
   "metadata": {},
   "outputs": [],
   "source": [
    "import lightgbm as lgb\n",
    "train_ds = lgb.Dataset(x_train, label = y_train) \n",
    "test_ds = lgb.Dataset(x_test, label = y_test) "
   ]
  },
  {
   "cell_type": "code",
   "execution_count": 189,
   "metadata": {},
   "outputs": [],
   "source": [
    "params = {'n_estimators' : 10000,\n",
    "          'learning_rate': 0.01, \n",
    "          'max_depth': 16, \n",
    "          'boosting': 'gbdt', \n",
    "          'objective': 'regression', \n",
    "          'metric': 'mse', \n",
    "          'is_training_metric': True, \n",
    "          'num_leaves': 144, \n",
    "          'feature_fraction': 0.9, \n",
    "          'bagging_fraction': 0.7, \n",
    "          'bagging_freq': 5, \n",
    "          'seed':2018}"
   ]
  },
  {
   "cell_type": "code",
   "execution_count": 190,
   "metadata": {},
   "outputs": [
    {
     "name": "stdout",
     "output_type": "stream",
     "text": [
      "Training until validation scores don't improve for 100 rounds\n",
      "[100]\tvalid_0's l2: 100.716\n",
      "[200]\tvalid_0's l2: 51.7065\n",
      "[300]\tvalid_0's l2: 35.5507\n"
     ]
    },
    {
     "name": "stderr",
     "output_type": "stream",
     "text": [
      "D:\\anaconda\\envs\\opencv\\lib\\site-packages\\lightgbm\\engine.py:148: UserWarning: Found `n_estimators` in params. Will use it instead of argument\n",
      "  warnings.warn(\"Found `{}` in params. Will use it instead of argument\".format(alias))\n"
     ]
    },
    {
     "name": "stdout",
     "output_type": "stream",
     "text": [
      "[400]\tvalid_0's l2: 28.4917\n",
      "[500]\tvalid_0's l2: 24.8851\n",
      "[600]\tvalid_0's l2: 22.7309\n",
      "[700]\tvalid_0's l2: 21.1838\n",
      "[800]\tvalid_0's l2: 20.329\n",
      "[900]\tvalid_0's l2: 19.729\n",
      "[1000]\tvalid_0's l2: 19.0856\n",
      "[1100]\tvalid_0's l2: 18.5336\n",
      "[1200]\tvalid_0's l2: 18.2099\n",
      "[1300]\tvalid_0's l2: 17.8025\n",
      "[1400]\tvalid_0's l2: 17.6124\n",
      "[1500]\tvalid_0's l2: 17.3306\n",
      "[1600]\tvalid_0's l2: 17.1196\n",
      "[1700]\tvalid_0's l2: 16.9431\n",
      "[1800]\tvalid_0's l2: 16.8949\n",
      "[1900]\tvalid_0's l2: 16.7486\n",
      "[2000]\tvalid_0's l2: 16.5714\n",
      "[2100]\tvalid_0's l2: 16.4749\n",
      "[2200]\tvalid_0's l2: 16.4663\n",
      "[2300]\tvalid_0's l2: 16.3376\n",
      "[2400]\tvalid_0's l2: 16.2555\n",
      "[2500]\tvalid_0's l2: 16.1727\n",
      "[2600]\tvalid_0's l2: 16.0945\n",
      "[2700]\tvalid_0's l2: 16.0337\n",
      "[2800]\tvalid_0's l2: 15.9634\n",
      "[2900]\tvalid_0's l2: 15.89\n",
      "[3000]\tvalid_0's l2: 15.8684\n",
      "[3100]\tvalid_0's l2: 15.7924\n",
      "[3200]\tvalid_0's l2: 15.7751\n",
      "[3300]\tvalid_0's l2: 15.7788\n",
      "Early stopping, best iteration is:\n",
      "[3210]\tvalid_0's l2: 15.7588\n",
      "lightgbm model time :  2.0410003662109375\n"
     ]
    }
   ],
   "source": [
    "import time\n",
    "lgb_start = time.time()\n",
    "model = lgb.train(params, train_ds, 10000, test_ds, verbose_eval=100, early_stopping_rounds=100)\n",
    "\n",
    "print(\"lightgbm model time : \", time.time() - lgb_start)"
   ]
  },
  {
   "cell_type": "markdown",
   "metadata": {},
   "source": [
    "### Feature importance\n",
    "\n",
    "* Lightgbm also can extract feature importance\n",
    "* lightgbm.plot_importance module output : feature importance about during training"
   ]
  },
  {
   "cell_type": "code",
   "execution_count": 191,
   "metadata": {},
   "outputs": [
    {
     "data": {
      "text/plain": [
       "<matplotlib.axes._subplots.AxesSubplot at 0x1dc75529ec8>"
      ]
     },
     "execution_count": 191,
     "metadata": {},
     "output_type": "execute_result"
    },
    {
     "data": {
      "image/png": "[encoded data removed]",
      "text/plain": [
       "<Figure size 720x432 with 1 Axes>"
      ]
     },
     "metadata": {
      "needs_background": "light"
     },
     "output_type": "display_data"
    }
   ],
   "source": [
    "import matplotlib.pyplot as plt\n",
    "from lightgbm import plot_importance\n",
    "fig,ax = plt.subplots(figsize = (10,6))\n",
    "plot_importance(model,ax=ax)"
   ]
  },
  {
   "cell_type": "code",
   "execution_count": 192,
   "metadata": {},
   "outputs": [],
   "source": [
    "predict_train = model.predict(x_train)\n",
    "predict_test = model.predict(x_test)"
   ]
  },
  {
   "cell_type": "code",
   "execution_count": 193,
   "metadata": {},
   "outputs": [],
   "source": [
    "from sklearn.metrics import mean_squared_error, r2_score\n",
    "\n",
    "mse = mean_squared_error(y_test, predict_test)\n",
    "r2 = r2_score(y_test, predict_test)"
   ]
  },
  {
   "cell_type": "code",
   "execution_count": 194,
   "metadata": {},
   "outputs": [
    {
     "name": "stdout",
     "output_type": "stream",
     "text": [
      "Raw-data Mean squared error:  15.758811090352543\n",
      "Raw-data R2 score:  0.9494249339911901\n"
     ]
    }
   ],
   "source": [
    "print('Raw-data Mean squared error: ', mse)\n",
    "print('Raw-data R2 score: ', r2)"
   ]
  },
  {
   "cell_type": "code",
   "execution_count": 195,
   "metadata": {},
   "outputs": [],
   "source": [
    "final_result = pd.concat([y_test.reset_index(drop=True), pd.DataFrame(predict_test)], axis = 1)"
   ]
  },
  {
   "cell_type": "code",
   "execution_count": 196,
   "metadata": {},
   "outputs": [],
   "source": [
    "final_result.columns = ['y_test','predict']"
   ]
  },
  {
   "cell_type": "code",
   "execution_count": 197,
   "metadata": {},
   "outputs": [
    {
     "data": {
      "text/plain": [
       "<matplotlib.axes._subplots.AxesSubplot at 0x1dc7b0e6608>"
      ]
     },
     "execution_count": 197,
     "metadata": {},
     "output_type": "execute_result"
    },
    {
     "data": {
      "image/png": "[encoded data removed]",
      "text/plain": [
       "<Figure size 432x288 with 1 Axes>"
      ]
     },
     "metadata": {
      "needs_background": "light"
     },
     "output_type": "display_data"
    }
   ],
   "source": [
    "import seaborn as sns\n",
    "sns.regplot(x = 'y_test', y = 'predict', data = final_result)"
   ]
  },
  {
   "cell_type": "code",
   "execution_count": 198,
   "metadata": {},
   "outputs": [
    {
     "data": {
      "text/plain": [
       "array([[<matplotlib.axes._subplots.AxesSubplot object at 0x000001DC7B0D85C8>,\n",
       "        <matplotlib.axes._subplots.AxesSubplot object at 0x000001DC7B17E288>]],\n",
       "      dtype=object)"
      ]
     },
     "execution_count": 198,
     "metadata": {},
     "output_type": "execute_result"
    },
    {
     "data": {
      "image/png": "[encoded data removed]",
      "text/plain": [
       "<Figure size 432x288 with 2 Axes>"
      ]
     },
     "metadata": {
      "needs_background": "light"
     },
     "output_type": "display_data"
    }
   ],
   "source": [
    "final_result.hist()"
   ]
  },
  {
   "cell_type": "markdown",
   "metadata": {},
   "source": [
    "## Compare with log-scale data"
   ]
  },
  {
   "cell_type": "code",
   "execution_count": 199,
   "metadata": {},
   "outputs": [],
   "source": [
    "y_log_trans = np.log1p(y)\n",
    "x_log_trans = np.log1p(x)"
   ]
  },
  {
   "cell_type": "code",
   "execution_count": 200,
   "metadata": {},
   "outputs": [],
   "source": [
    "log_x_train, log_x_test, log_y_train, log_y_test = train_test_split(x_log_trans, y_log_trans, train_size=0.7,\n",
    "                                                                    test_size=0.3, random_state=142)"
   ]
  },
  {
   "cell_type": "code",
   "execution_count": 201,
   "metadata": {},
   "outputs": [
    {
     "name": "stderr",
     "output_type": "stream",
     "text": [
      "D:\\anaconda\\envs\\opencv\\lib\\site-packages\\lightgbm\\engine.py:148: UserWarning: Found `n_estimators` in params. Will use it instead of argument\n",
      "  warnings.warn(\"Found `{}` in params. Will use it instead of argument\".format(alias))\n"
     ]
    },
    {
     "name": "stdout",
     "output_type": "stream",
     "text": [
      "Training until validation scores don't improve for 100 rounds\n",
      "[100]\tvalid_0's l2: 0.0925127\n",
      "[200]\tvalid_0's l2: 0.0456414\n",
      "[300]\tvalid_0's l2: 0.031988\n",
      "[400]\tvalid_0's l2: 0.0264405\n",
      "[500]\tvalid_0's l2: 0.0235208\n",
      "[600]\tvalid_0's l2: 0.0218885\n",
      "[700]\tvalid_0's l2: 0.020773\n",
      "[800]\tvalid_0's l2: 0.0200564\n",
      "[900]\tvalid_0's l2: 0.0193295\n",
      "[1000]\tvalid_0's l2: 0.0188252\n",
      "[1100]\tvalid_0's l2: 0.0185102\n",
      "[1200]\tvalid_0's l2: 0.0181438\n",
      "[1300]\tvalid_0's l2: 0.0177463\n",
      "[1400]\tvalid_0's l2: 0.017504\n",
      "[1500]\tvalid_0's l2: 0.0172768\n",
      "[1600]\tvalid_0's l2: 0.017072\n",
      "[1700]\tvalid_0's l2: 0.0169393\n",
      "[1800]\tvalid_0's l2: 0.0168567\n",
      "[1900]\tvalid_0's l2: 0.0167061\n",
      "[2000]\tvalid_0's l2: 0.0166429\n",
      "[2100]\tvalid_0's l2: 0.0164827\n",
      "[2200]\tvalid_0's l2: 0.0164183\n",
      "[2300]\tvalid_0's l2: 0.0162648\n",
      "[2400]\tvalid_0's l2: 0.0162528\n",
      "[2500]\tvalid_0's l2: 0.0161819\n",
      "[2600]\tvalid_0's l2: 0.0160937\n",
      "[2700]\tvalid_0's l2: 0.0160792\n",
      "[2800]\tvalid_0's l2: 0.0161178\n",
      "Early stopping, best iteration is:\n",
      "[2730]\tvalid_0's l2: 0.0160457\n"
     ]
    }
   ],
   "source": [
    "log_train_ds = lgb.Dataset(log_x_train, label = log_y_train)\n",
    "log_test_ds = lgb.Dataset(log_x_test, label = log_y_test)\n",
    "log_model = lgb.train(params, log_train_ds, 10000, log_test_ds, verbose_eval=100, early_stopping_rounds=100)"
   ]
  },
  {
   "cell_type": "code",
   "execution_count": 202,
   "metadata": {},
   "outputs": [
    {
     "data": {
      "text/plain": [
       "<matplotlib.axes._subplots.AxesSubplot at 0x1dc7c239a88>"
      ]
     },
     "execution_count": 202,
     "metadata": {},
     "output_type": "execute_result"
    },
    {
     "data": {
      "image/png": "[encoded data removed]",
      "text/plain": [
       "<Figure size 720x432 with 1 Axes>"
      ]
     },
     "metadata": {
      "needs_background": "light"
     },
     "output_type": "display_data"
    }
   ],
   "source": [
    "fig,ax = plt.subplots(figsize = (10,6))\n",
    "plot_importance(log_model,ax=ax)"
   ]
  },
  {
   "cell_type": "code",
   "execution_count": 203,
   "metadata": {},
   "outputs": [],
   "source": [
    "log_predict_train = log_model.predict(log_x_train)\n",
    "log_predict_test = log_model.predict(log_x_test)\n",
    "log_mse = mean_squared_error(log_y_test, log_predict_test)\n",
    "log_r2 = r2_score(log_y_test, log_predict_test)"
   ]
  },
  {
   "cell_type": "code",
   "execution_count": 204,
   "metadata": {},
   "outputs": [
    {
     "name": "stdout",
     "output_type": "stream",
     "text": [
      "log-scaled data Mean squared error:  0.016045683547576572\n",
      "log-scaled data R2 score:  0.9460204962185617\n"
     ]
    }
   ],
   "source": [
    "print('log-scaled data Mean squared error: ', log_mse)\n",
    "print('log-scaled data R2 score: ', log_r2)"
   ]
  },
  {
   "cell_type": "code",
   "execution_count": 205,
   "metadata": {},
   "outputs": [],
   "source": [
    "final_result = pd.concat([log_y_test.reset_index(drop=True), pd.DataFrame(log_predict_test)], axis = 1)"
   ]
  },
  {
   "cell_type": "code",
   "execution_count": 206,
   "metadata": {},
   "outputs": [],
   "source": [
    "final_result.columns = ['log_y_test','log_predict']"
   ]
  },
  {
   "cell_type": "code",
   "execution_count": 207,
   "metadata": {},
   "outputs": [
    {
     "data": {
      "text/plain": [
       "<matplotlib.axes._subplots.AxesSubplot at 0x1dc7c51f688>"
      ]
     },
     "execution_count": 207,
     "metadata": {},
     "output_type": "execute_result"
    },
    {
     "data": {
      "image/png": "[encoded data removed]",
      "text/plain": [
       "<Figure size 432x288 with 1 Axes>"
      ]
     },
     "metadata": {
      "needs_background": "light"
     },
     "output_type": "display_data"
    }
   ],
   "source": [
    "sns.regplot(x = 'log_y_test', y = 'log_predict', data = final_result)"
   ]
  },
  {
   "cell_type": "code",
   "execution_count": 208,
   "metadata": {},
   "outputs": [
    {
     "data": {
      "text/plain": [
       "array([[<matplotlib.axes._subplots.AxesSubplot object at 0x000001DC7C5200C8>,\n",
       "        <matplotlib.axes._subplots.AxesSubplot object at 0x000001DC7C420788>]],\n",
       "      dtype=object)"
      ]
     },
     "execution_count": 208,
     "metadata": {},
     "output_type": "execute_result"
    },
    {
     "data": {
      "image/png": "[encoded data removed]",
      "text/plain": [
       "<Figure size 432x288 with 2 Axes>"
      ]
     },
     "metadata": {
      "needs_background": "light"
     },
     "output_type": "display_data"
    }
   ],
   "source": [
    "final_result.hist()"
   ]
  },
  {
   "cell_type": "markdown",
   "metadata": {},
   "source": [
    "### Gradient boosting model"
   ]
  },
  {
   "cell_type": "code",
   "execution_count": 209,
   "metadata": {},
   "outputs": [
    {
     "data": {
      "text/plain": [
       "GradientBoostingRegressor(alpha=0.9, ccp_alpha=0.0, criterion='friedman_mse',\n",
       "                          init=None, learning_rate=0.1, loss='ls', max_depth=16,\n",
       "                          max_features=None, max_leaf_nodes=None,\n",
       "                          min_impurity_decrease=0.0, min_impurity_split=None,\n",
       "                          min_samples_leaf=2, min_samples_split=2,\n",
       "                          min_weight_fraction_leaf=0.0, n_estimators=10000,\n",
       "                          n_iter_no_change=None, presort='deprecated',\n",
       "                          random_state=42, subsample=1.0, tol=0.0001,\n",
       "                          validation_fraction=0.1, verbose=0, warm_start=False)"
      ]
     },
     "execution_count": 209,
     "metadata": {},
     "output_type": "execute_result"
    }
   ],
   "source": [
    "from sklearn.ensemble import GradientBoostingRegressor\n",
    "\n",
    "gbr_b = GradientBoostingRegressor(random_state=42, max_depth=16, min_samples_leaf=2,\n",
    "                                  n_estimators=10000)\n",
    "gbr_b"
   ]
  },
  {
   "cell_type": "code",
   "execution_count": 210,
   "metadata": {},
   "outputs": [
    {
     "name": "stdout",
     "output_type": "stream",
     "text": [
      "Gradient boosting model time :  19.799001216888428\n",
      "Train R-squared: 1.00\n",
      "Test R-squared: 0.93\n"
     ]
    }
   ],
   "source": [
    "gbr_start = time.time()\n",
    "\n",
    "gbr_b.fit(x_train, y_train)\n",
    "\n",
    "print(\"Gradient boosting model time : \", time.time() - gbr_start)\n",
    "print(\"Train R-squared: %.2f\" %gbr_b.score(x_train,y_train) )\n",
    "print(\"Test R-squared: %.2f\" %gbr_b.score(x_test,y_test) )"
   ]
  },
  {
   "cell_type": "code",
   "execution_count": 211,
   "metadata": {},
   "outputs": [],
   "source": [
    "log_predict_train = log_model.predict(log_x_train)\n",
    "log_predict_test = log_model.predict(log_x_test)\n",
    "log_mse = mean_squared_error(log_y_test, log_predict_test)\n",
    "log_r2 = r2_score(log_y_test, log_predict_test)"
   ]
  },
  {
   "cell_type": "code",
   "execution_count": 212,
   "metadata": {},
   "outputs": [],
   "source": [
    "final_result = pd.concat([log_y_test.reset_index(drop=True), pd.DataFrame(log_predict_test)], axis = 1)"
   ]
  },
  {
   "cell_type": "code",
   "execution_count": 213,
   "metadata": {},
   "outputs": [],
   "source": [
    "gbr_predict_train = gbr_b.predict(x_train)\n",
    "gbr_predict_test = gbr_b.predict(x_test)"
   ]
  },
  {
   "cell_type": "code",
   "execution_count": 214,
   "metadata": {},
   "outputs": [],
   "source": [
    "gbr_mse = mean_squared_error(y_test,gbr_predict_test)"
   ]
  },
  {
   "cell_type": "code",
   "execution_count": 215,
   "metadata": {},
   "outputs": [],
   "source": [
    "gbr_r2 = r2_score(y_test,gbr_predict_test)"
   ]
  },
  {
   "cell_type": "code",
   "execution_count": 216,
   "metadata": {},
   "outputs": [
    {
     "name": "stdout",
     "output_type": "stream",
     "text": [
      "xgboost model Mean squared error:  21.843914325874017\n",
      "xgboost model R2 score:  0.9298958910930664\n"
     ]
    }
   ],
   "source": [
    "print('xgboost model Mean squared error: ', gbr_mse)\n",
    "print('xgboost model R2 score: ', gbr_r2)"
   ]
  },
  {
   "cell_type": "markdown",
   "metadata": {},
   "source": [
    "### Final result"
   ]
  },
  {
   "cell_type": "markdown",
   "metadata": {},
   "source": [
    "\n",
    "| Data-type | Model | MSE | R2 score |\n",
    "|---|:---:|:---:|:---:|\n",
    "| raw data | lightgbm | 15.75 | 0.949 |\n",
    "| log-scale | lightgbm | 0.01 | 0.946 |\n",
    "| raw data | gradient boosting | 21.84 | 0.929 |\n",
    "| log-scale | linear regression | 0.053 | 0.785 |\n",
    "| raw-data | linear regression | 110.488 | 0.597 |"
   ]
  }
 ],
 "metadata": {
  "kernelspec": {
   "display_name": "Python 3",
   "language": "python",
   "name": "python3"
  },
  "language_info": {
   "codemirror_mode": {
    "name": "ipython",
    "version": 3
   },
   "file_extension": ".py",
   "mimetype": "text/x-python",
   "name": "python",
   "nbconvert_exporter": "python",
   "pygments_lexer": "ipython3",
   "version": "3.7.4"
  }
 },
 "nbformat": 4,
 "nbformat_minor": 4
}
