{
 "cells": [
  {
   "cell_type": "markdown",
   "metadata": {},
   "source": [
    "## Regression analysis (Compresive strength concrete)\n",
    "#### Workspace path : 'C:\\\\Users\\\\user\\\\과제'\n",
    "#### Dataset name : compresive strength concrete\n",
    "\n",
    "#### col : 9 , row : 1030\n",
    "\n",
    "* Target : Concrete compressive strength(MPa, megapascals)\n",
    "\n",
    "* Key features : All columns are float type.\n",
    "\n",
    "> Features : \n",
    ">1. Cement – quantitative – input variable\n",
    ">2. Blast Furnace Slag – quantitative – input variable\n",
    ">3. Fly Ash – quantitative – input variable\n",
    ">4. Water – quantitative – input variable\n",
    ">5. Superplasticizer – quantitative – input variable\n",
    ">6. Coarse Aggregate – quantitative – input variable\n",
    ">7. Fine Aggregate – quantitative – input variable\n",
    ">8. Age – quantitative – input variable\n",
    ">9. Concrete compressive strength – quantitative – **Output Variable**\n",
    "\n",
    "#### - regression formula\n",
    "- Concrete compressive strength = const + Cement + Blast Furnace Slag + Fly Ash + Water + Superplasticizer + Coarse Aggregate + Fine Aggregate + Age\n",
    "\n",
    "* After view summary of linear model, we have to remove some variable that underinfluenced."
   ]
  },
  {
   "cell_type": "markdown",
   "metadata": {},
   "source": [
    "### Read and handling data\n",
    "\n",
    "#### Column names have some additional information. So that to change column name we can handle more easier\n",
    "* For exmaple, 'Fly Ash' has blank. It can cause trouble.\n",
    "* So that all the blanks were replaced by underbars.\n",
    "* Using data_frame.columns, change names\n",
    "\n",
    "ex) \n",
    "\n",
    "```\n",
    "data = pd.read_csv(\"example.csv\")\n",
    "data.columns = ['first','second','thrid']\n",
    "```"
   ]
  },
  {
   "cell_type": "code",
   "execution_count": 1,
   "metadata": {},
   "outputs": [],
   "source": [
    "import numpy as np\n",
    "import pandas as pd\n",
    "data = pd.read_csv(\"compresive_strength_concrete.csv\")\n",
    "data.columns = ['Cement', 'Blast_Furnace_Slag', 'Fly_Ash', 'Water', 'Superplasticizer', 'Coarse_Aggregate', 'Fine_Aggregate',\n",
    "                'Age', 'Concrete_compressive_strength']"
   ]
  },
  {
   "cell_type": "code",
   "execution_count": 2,
   "metadata": {},
   "outputs": [
    {
     "data": {
      "text/plain": [
       "(1030, 9)"
      ]
     },
     "execution_count": 2,
     "metadata": {},
     "output_type": "execute_result"
    }
   ],
   "source": [
    "data.shape"
   ]
  },
  {
   "cell_type": "code",
   "execution_count": 3,
   "metadata": {},
   "outputs": [
    {
     "data": {
      "text/html": [
       "<div>\n",
       "<style scoped>\n",
       "    .dataframe tbody tr th:only-of-type {\n",
       "        vertical-align: middle;\n",
       "    }\n",
       "\n",
       "    .dataframe tbody tr th {\n",
       "        vertical-align: top;\n",
       "    }\n",
       "\n",
       "    .dataframe thead th {\n",
       "        text-align: right;\n",
       "    }\n",
       "</style>\n",
       "<table border=\"1\" class=\"dataframe\">\n",
       "  <thead>\n",
       "    <tr style=\"text-align: right;\">\n",
       "      <th></th>\n",
       "      <th>Cement</th>\n",
       "      <th>Blast_Furnace_Slag</th>\n",
       "      <th>Fly_Ash</th>\n",
       "      <th>Water</th>\n",
       "      <th>Superplasticizer</th>\n",
       "      <th>Coarse_Aggregate</th>\n",
       "      <th>Fine_Aggregate</th>\n",
       "      <th>Age</th>\n",
       "      <th>Concrete_compressive_strength</th>\n",
       "    </tr>\n",
       "  </thead>\n",
       "  <tbody>\n",
       "    <tr>\n",
       "      <th>0</th>\n",
       "      <td>540.0</td>\n",
       "      <td>0.0</td>\n",
       "      <td>0.0</td>\n",
       "      <td>162.0</td>\n",
       "      <td>2.5</td>\n",
       "      <td>1040.0</td>\n",
       "      <td>676.0</td>\n",
       "      <td>28</td>\n",
       "      <td>79.99</td>\n",
       "    </tr>\n",
       "    <tr>\n",
       "      <th>1</th>\n",
       "      <td>540.0</td>\n",
       "      <td>0.0</td>\n",
       "      <td>0.0</td>\n",
       "      <td>162.0</td>\n",
       "      <td>2.5</td>\n",
       "      <td>1055.0</td>\n",
       "      <td>676.0</td>\n",
       "      <td>28</td>\n",
       "      <td>61.89</td>\n",
       "    </tr>\n",
       "    <tr>\n",
       "      <th>2</th>\n",
       "      <td>332.5</td>\n",
       "      <td>142.5</td>\n",
       "      <td>0.0</td>\n",
       "      <td>228.0</td>\n",
       "      <td>0.0</td>\n",
       "      <td>932.0</td>\n",
       "      <td>594.0</td>\n",
       "      <td>270</td>\n",
       "      <td>40.27</td>\n",
       "    </tr>\n",
       "    <tr>\n",
       "      <th>3</th>\n",
       "      <td>332.5</td>\n",
       "      <td>142.5</td>\n",
       "      <td>0.0</td>\n",
       "      <td>228.0</td>\n",
       "      <td>0.0</td>\n",
       "      <td>932.0</td>\n",
       "      <td>594.0</td>\n",
       "      <td>365</td>\n",
       "      <td>41.05</td>\n",
       "    </tr>\n",
       "    <tr>\n",
       "      <th>4</th>\n",
       "      <td>198.6</td>\n",
       "      <td>132.4</td>\n",
       "      <td>0.0</td>\n",
       "      <td>192.0</td>\n",
       "      <td>0.0</td>\n",
       "      <td>978.4</td>\n",
       "      <td>825.5</td>\n",
       "      <td>360</td>\n",
       "      <td>44.30</td>\n",
       "    </tr>\n",
       "  </tbody>\n",
       "</table>\n",
       "</div>"
      ],
      "text/plain": [
       "   Cement  Blast_Furnace_Slag  Fly_Ash  Water  Superplasticizer  \\\n",
       "0   540.0                 0.0      0.0  162.0               2.5   \n",
       "1   540.0                 0.0      0.0  162.0               2.5   \n",
       "2   332.5               142.5      0.0  228.0               0.0   \n",
       "3   332.5               142.5      0.0  228.0               0.0   \n",
       "4   198.6               132.4      0.0  192.0               0.0   \n",
       "\n",
       "   Coarse_Aggregate  Fine_Aggregate  Age  Concrete_compressive_strength  \n",
       "0            1040.0           676.0   28                          79.99  \n",
       "1            1055.0           676.0   28                          61.89  \n",
       "2             932.0           594.0  270                          40.27  \n",
       "3             932.0           594.0  365                          41.05  \n",
       "4             978.4           825.5  360                          44.30  "
      ]
     },
     "execution_count": 3,
     "metadata": {},
     "output_type": "execute_result"
    }
   ],
   "source": [
    "data.head()"
   ]
  },
  {
   "cell_type": "markdown",
   "metadata": {},
   "source": [
    "### Check Missing value of data\n",
    "\n",
    "* Before analysis, It is essential to check missing value of data.\n",
    "* We can check missing value using isnull module in pandas."
   ]
  },
  {
   "cell_type": "code",
   "execution_count": 4,
   "metadata": {},
   "outputs": [
    {
     "data": {
      "text/plain": [
       "Cement                           0\n",
       "Blast_Furnace_Slag               0\n",
       "Fly_Ash                          0\n",
       "Water                            0\n",
       "Superplasticizer                 0\n",
       "Coarse_Aggregate                 0\n",
       "Fine_Aggregate                   0\n",
       "Age                              0\n",
       "Concrete_compressive_strength    0\n",
       "dtype: int64"
      ]
     },
     "execution_count": 4,
     "metadata": {},
     "output_type": "execute_result"
    }
   ],
   "source": [
    "data.isnull().sum()"
   ]
  },
  {
   "cell_type": "markdown",
   "metadata": {},
   "source": [
    "### Data distributions\n",
    "* Check distribution each columns with histogram"
   ]
  },
  {
   "cell_type": "code",
   "execution_count": 5,
   "metadata": {},
   "outputs": [],
   "source": [
    "%matplotlib inline\n",
    "import matplotlib.pyplot as plt "
   ]
  },
  {
   "cell_type": "code",
   "execution_count": 6,
   "metadata": {},
   "outputs": [
    {
     "data": {
      "image/png": "[encoded data removed]",
      "text/plain": [
       "<Figure size 432x288 with 4 Axes>"
      ]
     },
     "metadata": {
      "needs_background": "light"
     },
     "output_type": "display_data"
    }
   ],
   "source": [
    "for i in range(0,4):\n",
    "    plt.subplot(2,2,i+1)\n",
    "    plt.title(data.columns[i])\n",
    "    data.iloc[:,i].hist()"
   ]
  },
  {
   "cell_type": "code",
   "execution_count": 7,
   "metadata": {},
   "outputs": [
    {
     "data": {
      "image/png": "[encoded data removed]",
      "text/plain": [
       "<Figure size 432x288 with 4 Axes>"
      ]
     },
     "metadata": {
      "needs_background": "light"
     },
     "output_type": "display_data"
    }
   ],
   "source": [
    "for i in range(4,8):\n",
    "    plt.subplot(2,2,i-3)\n",
    "    plt.title(data.columns[i])\n",
    "    data.iloc[:,i].hist()"
   ]
  },
  {
   "cell_type": "code",
   "execution_count": 8,
   "metadata": {},
   "outputs": [
    {
     "data": {
      "text/plain": [
       "<matplotlib.axes._subplots.AxesSubplot at 0x1b5fd687108>"
      ]
     },
     "execution_count": 8,
     "metadata": {},
     "output_type": "execute_result"
    },
    {
     "data": {
      "image/png": "[encoded data removed]",
      "text/plain": [
       "<Figure size 432x288 with 1 Axes>"
      ]
     },
     "metadata": {
      "needs_background": "light"
     },
     "output_type": "display_data"
    }
   ],
   "source": [
    "plt.title(data.columns[-1])\n",
    "data.iloc[:,-1].hist()"
   ]
  },
  {
   "cell_type": "markdown",
   "metadata": {},
   "source": [
    "### Measure of correlation coefficient\n",
    "* Using pandas package, we can measure correlation coefficient on data_frame\n",
    "* Also using seaborn we can print heatmap of correlation coefficient."
   ]
  },
  {
   "cell_type": "code",
   "execution_count": 9,
   "metadata": {},
   "outputs": [
    {
     "data": {
      "text/html": [
       "<div>\n",
       "<style scoped>\n",
       "    .dataframe tbody tr th:only-of-type {\n",
       "        vertical-align: middle;\n",
       "    }\n",
       "\n",
       "    .dataframe tbody tr th {\n",
       "        vertical-align: top;\n",
       "    }\n",
       "\n",
       "    .dataframe thead th {\n",
       "        text-align: right;\n",
       "    }\n",
       "</style>\n",
       "<table border=\"1\" class=\"dataframe\">\n",
       "  <thead>\n",
       "    <tr style=\"text-align: right;\">\n",
       "      <th></th>\n",
       "      <th>Cement</th>\n",
       "      <th>Blast_Furnace_Slag</th>\n",
       "      <th>Fly_Ash</th>\n",
       "      <th>Water</th>\n",
       "      <th>Superplasticizer</th>\n",
       "      <th>Coarse_Aggregate</th>\n",
       "      <th>Fine_Aggregate</th>\n",
       "      <th>Age</th>\n",
       "      <th>Concrete_compressive_strength</th>\n",
       "    </tr>\n",
       "  </thead>\n",
       "  <tbody>\n",
       "    <tr>\n",
       "      <th>Cement</th>\n",
       "      <td>1.000000</td>\n",
       "      <td>-0.275216</td>\n",
       "      <td>-0.397467</td>\n",
       "      <td>-0.081587</td>\n",
       "      <td>0.092386</td>\n",
       "      <td>-0.109349</td>\n",
       "      <td>-0.222718</td>\n",
       "      <td>0.081946</td>\n",
       "      <td>0.497832</td>\n",
       "    </tr>\n",
       "    <tr>\n",
       "      <th>Blast_Furnace_Slag</th>\n",
       "      <td>-0.275216</td>\n",
       "      <td>1.000000</td>\n",
       "      <td>-0.323580</td>\n",
       "      <td>0.107252</td>\n",
       "      <td>0.043270</td>\n",
       "      <td>-0.283999</td>\n",
       "      <td>-0.281603</td>\n",
       "      <td>-0.044246</td>\n",
       "      <td>0.134829</td>\n",
       "    </tr>\n",
       "    <tr>\n",
       "      <th>Fly_Ash</th>\n",
       "      <td>-0.397467</td>\n",
       "      <td>-0.323580</td>\n",
       "      <td>1.000000</td>\n",
       "      <td>-0.256984</td>\n",
       "      <td>0.377503</td>\n",
       "      <td>-0.009961</td>\n",
       "      <td>0.079108</td>\n",
       "      <td>-0.154371</td>\n",
       "      <td>-0.105755</td>\n",
       "    </tr>\n",
       "    <tr>\n",
       "      <th>Water</th>\n",
       "      <td>-0.081587</td>\n",
       "      <td>0.107252</td>\n",
       "      <td>-0.256984</td>\n",
       "      <td>1.000000</td>\n",
       "      <td>-0.657533</td>\n",
       "      <td>-0.182294</td>\n",
       "      <td>-0.450661</td>\n",
       "      <td>0.277618</td>\n",
       "      <td>-0.289633</td>\n",
       "    </tr>\n",
       "    <tr>\n",
       "      <th>Superplasticizer</th>\n",
       "      <td>0.092386</td>\n",
       "      <td>0.043270</td>\n",
       "      <td>0.377503</td>\n",
       "      <td>-0.657533</td>\n",
       "      <td>1.000000</td>\n",
       "      <td>-0.265999</td>\n",
       "      <td>0.222691</td>\n",
       "      <td>-0.192700</td>\n",
       "      <td>0.366079</td>\n",
       "    </tr>\n",
       "    <tr>\n",
       "      <th>Coarse_Aggregate</th>\n",
       "      <td>-0.109349</td>\n",
       "      <td>-0.283999</td>\n",
       "      <td>-0.009961</td>\n",
       "      <td>-0.182294</td>\n",
       "      <td>-0.265999</td>\n",
       "      <td>1.000000</td>\n",
       "      <td>-0.178481</td>\n",
       "      <td>-0.003016</td>\n",
       "      <td>-0.164935</td>\n",
       "    </tr>\n",
       "    <tr>\n",
       "      <th>Fine_Aggregate</th>\n",
       "      <td>-0.222718</td>\n",
       "      <td>-0.281603</td>\n",
       "      <td>0.079108</td>\n",
       "      <td>-0.450661</td>\n",
       "      <td>0.222691</td>\n",
       "      <td>-0.178481</td>\n",
       "      <td>1.000000</td>\n",
       "      <td>-0.156095</td>\n",
       "      <td>-0.167241</td>\n",
       "    </tr>\n",
       "    <tr>\n",
       "      <th>Age</th>\n",
       "      <td>0.081946</td>\n",
       "      <td>-0.044246</td>\n",
       "      <td>-0.154371</td>\n",
       "      <td>0.277618</td>\n",
       "      <td>-0.192700</td>\n",
       "      <td>-0.003016</td>\n",
       "      <td>-0.156095</td>\n",
       "      <td>1.000000</td>\n",
       "      <td>0.328873</td>\n",
       "    </tr>\n",
       "    <tr>\n",
       "      <th>Concrete_compressive_strength</th>\n",
       "      <td>0.497832</td>\n",
       "      <td>0.134829</td>\n",
       "      <td>-0.105755</td>\n",
       "      <td>-0.289633</td>\n",
       "      <td>0.366079</td>\n",
       "      <td>-0.164935</td>\n",
       "      <td>-0.167241</td>\n",
       "      <td>0.328873</td>\n",
       "      <td>1.000000</td>\n",
       "    </tr>\n",
       "  </tbody>\n",
       "</table>\n",
       "</div>"
      ],
      "text/plain": [
       "                                 Cement  Blast_Furnace_Slag   Fly_Ash  \\\n",
       "Cement                         1.000000           -0.275216 -0.397467   \n",
       "Blast_Furnace_Slag            -0.275216            1.000000 -0.323580   \n",
       "Fly_Ash                       -0.397467           -0.323580  1.000000   \n",
       "Water                         -0.081587            0.107252 -0.256984   \n",
       "Superplasticizer               0.092386            0.043270  0.377503   \n",
       "Coarse_Aggregate              -0.109349           -0.283999 -0.009961   \n",
       "Fine_Aggregate                -0.222718           -0.281603  0.079108   \n",
       "Age                            0.081946           -0.044246 -0.154371   \n",
       "Concrete_compressive_strength  0.497832            0.134829 -0.105755   \n",
       "\n",
       "                                  Water  Superplasticizer  Coarse_Aggregate  \\\n",
       "Cement                        -0.081587          0.092386         -0.109349   \n",
       "Blast_Furnace_Slag             0.107252          0.043270         -0.283999   \n",
       "Fly_Ash                       -0.256984          0.377503         -0.009961   \n",
       "Water                          1.000000         -0.657533         -0.182294   \n",
       "Superplasticizer              -0.657533          1.000000         -0.265999   \n",
       "Coarse_Aggregate              -0.182294         -0.265999          1.000000   \n",
       "Fine_Aggregate                -0.450661          0.222691         -0.178481   \n",
       "Age                            0.277618         -0.192700         -0.003016   \n",
       "Concrete_compressive_strength -0.289633          0.366079         -0.164935   \n",
       "\n",
       "                               Fine_Aggregate       Age  \\\n",
       "Cement                              -0.222718  0.081946   \n",
       "Blast_Furnace_Slag                  -0.281603 -0.044246   \n",
       "Fly_Ash                              0.079108 -0.154371   \n",
       "Water                               -0.450661  0.277618   \n",
       "Superplasticizer                     0.222691 -0.192700   \n",
       "Coarse_Aggregate                    -0.178481 -0.003016   \n",
       "Fine_Aggregate                       1.000000 -0.156095   \n",
       "Age                                 -0.156095  1.000000   \n",
       "Concrete_compressive_strength       -0.167241  0.328873   \n",
       "\n",
       "                               Concrete_compressive_strength  \n",
       "Cement                                              0.497832  \n",
       "Blast_Furnace_Slag                                  0.134829  \n",
       "Fly_Ash                                            -0.105755  \n",
       "Water                                              -0.289633  \n",
       "Superplasticizer                                    0.366079  \n",
       "Coarse_Aggregate                                   -0.164935  \n",
       "Fine_Aggregate                                     -0.167241  \n",
       "Age                                                 0.328873  \n",
       "Concrete_compressive_strength                       1.000000  "
      ]
     },
     "execution_count": 9,
     "metadata": {},
     "output_type": "execute_result"
    }
   ],
   "source": [
    "data.corr()"
   ]
  },
  {
   "cell_type": "code",
   "execution_count": 10,
   "metadata": {},
   "outputs": [
    {
     "data": {
      "text/plain": [
       "<matplotlib.axes._subplots.AxesSubplot at 0x1b5ff70bec8>"
      ]
     },
     "execution_count": 10,
     "metadata": {},
     "output_type": "execute_result"
    },
    {
     "data": {
      "image/png": "[encoded data removed]",
      "text/plain": [
       "<Figure size 1080x1080 with 2 Axes>"
      ]
     },
     "metadata": {
      "needs_background": "light"
     },
     "output_type": "display_data"
    }
   ],
   "source": [
    "import seaborn as sns\n",
    "\n",
    "plt.figure(figsize=(15,15))\n",
    "sns.heatmap(data = data.corr(), annot=True, \n",
    "fmt = '.2f', linewidths=.5, cmap='Blues')"
   ]
  },
  {
   "cell_type": "markdown",
   "metadata": {},
   "source": [
    "#### -> There is no correlation between independent variables -> Multi-collinearity problem resolution\n",
    "#### -> The closest relationship to dependent variables(Concrete compressive strength) is Cement, Super plasticizer, Age. (0.50, 0.37, 0.33)"
   ]
  },
  {
   "cell_type": "markdown",
   "metadata": {},
   "source": [
    "### Measure VIF(Variance inflation factor)\n",
    "\n",
    "* If value of VIF Factor is over than 15, that means variable has Multicollinearity"
   ]
  },
  {
   "cell_type": "code",
   "execution_count": 11,
   "metadata": {},
   "outputs": [
    {
     "data": {
      "text/html": [
       "<div>\n",
       "<style scoped>\n",
       "    .dataframe tbody tr th:only-of-type {\n",
       "        vertical-align: middle;\n",
       "    }\n",
       "\n",
       "    .dataframe tbody tr th {\n",
       "        vertical-align: top;\n",
       "    }\n",
       "\n",
       "    .dataframe thead th {\n",
       "        text-align: right;\n",
       "    }\n",
       "</style>\n",
       "<table border=\"1\" class=\"dataframe\">\n",
       "  <thead>\n",
       "    <tr style=\"text-align: right;\">\n",
       "      <th></th>\n",
       "      <th>VIF Factor</th>\n",
       "      <th>features</th>\n",
       "    </tr>\n",
       "  </thead>\n",
       "  <tbody>\n",
       "    <tr>\n",
       "      <th>0</th>\n",
       "      <td>6731.8</td>\n",
       "      <td>Intercept</td>\n",
       "    </tr>\n",
       "    <tr>\n",
       "      <th>1</th>\n",
       "      <td>7.5</td>\n",
       "      <td>Cement</td>\n",
       "    </tr>\n",
       "    <tr>\n",
       "      <th>2</th>\n",
       "      <td>7.3</td>\n",
       "      <td>Blast_Furnace_Slag</td>\n",
       "    </tr>\n",
       "    <tr>\n",
       "      <th>3</th>\n",
       "      <td>6.2</td>\n",
       "      <td>Fly_Ash</td>\n",
       "    </tr>\n",
       "    <tr>\n",
       "      <th>4</th>\n",
       "      <td>7.0</td>\n",
       "      <td>Water</td>\n",
       "    </tr>\n",
       "    <tr>\n",
       "      <th>5</th>\n",
       "      <td>3.0</td>\n",
       "      <td>Superplasticizer</td>\n",
       "    </tr>\n",
       "    <tr>\n",
       "      <th>6</th>\n",
       "      <td>5.1</td>\n",
       "      <td>Coarse_Aggregate</td>\n",
       "    </tr>\n",
       "    <tr>\n",
       "      <th>7</th>\n",
       "      <td>7.0</td>\n",
       "      <td>Fine_Aggregate</td>\n",
       "    </tr>\n",
       "    <tr>\n",
       "      <th>8</th>\n",
       "      <td>1.1</td>\n",
       "      <td>Age</td>\n",
       "    </tr>\n",
       "  </tbody>\n",
       "</table>\n",
       "</div>"
      ],
      "text/plain": [
       "   VIF Factor            features\n",
       "0      6731.8           Intercept\n",
       "1         7.5              Cement\n",
       "2         7.3  Blast_Furnace_Slag\n",
       "3         6.2             Fly_Ash\n",
       "4         7.0               Water\n",
       "5         3.0    Superplasticizer\n",
       "6         5.1    Coarse_Aggregate\n",
       "7         7.0      Fine_Aggregate\n",
       "8         1.1                 Age"
      ]
     },
     "execution_count": 11,
     "metadata": {},
     "output_type": "execute_result"
    }
   ],
   "source": [
    "from patsy import *\n",
    "from statsmodels.stats.outliers_influence import variance_inflation_factor\n",
    "y, x = dmatrices('Concrete_compressive_strength ~ Cement + Blast_Furnace_Slag + Fly_Ash + Water + Superplasticizer + Coarse_Aggregate + Fine_Aggregate + Age',data=data, return_type = \"dataframe\")\n",
    "vif = pd.DataFrame()\n",
    "vif[\"VIF Factor\"] = [variance_inflation_factor(x.values, i) for i in range(x.shape[1])]\n",
    "vif[\"features\"] = x.columns\n",
    "vif.round(1) "
   ]
  },
  {
   "cell_type": "markdown",
   "metadata": {},
   "source": [
    "* The intercept(constant)'s VIF Factor exceeds 15.\n",
    "* The VIF factor of other variables is not more than 15 and therefore it can be confirmed that there is no multicollinearity."
   ]
  },
  {
   "cell_type": "markdown",
   "metadata": {},
   "source": [
    "### Train, Test split\n",
    "\n",
    "#### Target variable : Concrete compressive strength\n",
    "#### Independent variable : Cement ~ Fine_Aggregate\n",
    "\n",
    "* Let x are union of independent and y is target variable"
   ]
  },
  {
   "cell_type": "code",
   "execution_count": 12,
   "metadata": {},
   "outputs": [
    {
     "name": "stdout",
     "output_type": "stream",
     "text": [
      "(1030, 8) (1030,)\n"
     ]
    }
   ],
   "source": [
    "x, y = data.iloc[:,0:-1], data.iloc[:,-1]\n",
    "print(x.shape, y.shape)"
   ]
  },
  {
   "cell_type": "code",
   "execution_count": 13,
   "metadata": {},
   "outputs": [
    {
     "name": "stdout",
     "output_type": "stream",
     "text": [
      "(721, 8) (721,) (309, 8) (309,)\n"
     ]
    }
   ],
   "source": [
    "from sklearn.model_selection import train_test_split\n",
    "\n",
    "x_train, x_test, y_train, y_test = train_test_split(x, y, train_size=0.7, test_size=0.3, random_state=142)\n",
    "\n",
    "print(x_train.shape, y_train.shape, x_test.shape, y_test.shape)"
   ]
  },
  {
   "cell_type": "code",
   "execution_count": 14,
   "metadata": {},
   "outputs": [
    {
     "data": {
      "text/html": [
       "<div>\n",
       "<style scoped>\n",
       "    .dataframe tbody tr th:only-of-type {\n",
       "        vertical-align: middle;\n",
       "    }\n",
       "\n",
       "    .dataframe tbody tr th {\n",
       "        vertical-align: top;\n",
       "    }\n",
       "\n",
       "    .dataframe thead th {\n",
       "        text-align: right;\n",
       "    }\n",
       "</style>\n",
       "<table border=\"1\" class=\"dataframe\">\n",
       "  <thead>\n",
       "    <tr style=\"text-align: right;\">\n",
       "      <th></th>\n",
       "      <th>Cement</th>\n",
       "      <th>Blast_Furnace_Slag</th>\n",
       "      <th>Fly_Ash</th>\n",
       "      <th>Water</th>\n",
       "      <th>Superplasticizer</th>\n",
       "      <th>Coarse_Aggregate</th>\n",
       "      <th>Fine_Aggregate</th>\n",
       "      <th>Age</th>\n",
       "    </tr>\n",
       "  </thead>\n",
       "  <tbody>\n",
       "    <tr>\n",
       "      <th>936</th>\n",
       "      <td>236.9</td>\n",
       "      <td>91.7</td>\n",
       "      <td>71.5</td>\n",
       "      <td>246.9</td>\n",
       "      <td>6.0</td>\n",
       "      <td>852.9</td>\n",
       "      <td>695.4</td>\n",
       "      <td>28</td>\n",
       "    </tr>\n",
       "    <tr>\n",
       "      <th>503</th>\n",
       "      <td>491.0</td>\n",
       "      <td>26.0</td>\n",
       "      <td>123.0</td>\n",
       "      <td>210.0</td>\n",
       "      <td>3.9</td>\n",
       "      <td>882.0</td>\n",
       "      <td>699.0</td>\n",
       "      <td>56</td>\n",
       "    </tr>\n",
       "    <tr>\n",
       "      <th>283</th>\n",
       "      <td>251.4</td>\n",
       "      <td>0.0</td>\n",
       "      <td>118.3</td>\n",
       "      <td>188.5</td>\n",
       "      <td>6.4</td>\n",
       "      <td>1028.4</td>\n",
       "      <td>757.7</td>\n",
       "      <td>100</td>\n",
       "    </tr>\n",
       "    <tr>\n",
       "      <th>366</th>\n",
       "      <td>214.9</td>\n",
       "      <td>53.8</td>\n",
       "      <td>121.9</td>\n",
       "      <td>155.6</td>\n",
       "      <td>9.6</td>\n",
       "      <td>1014.3</td>\n",
       "      <td>780.6</td>\n",
       "      <td>28</td>\n",
       "    </tr>\n",
       "    <tr>\n",
       "      <th>50</th>\n",
       "      <td>332.5</td>\n",
       "      <td>142.5</td>\n",
       "      <td>0.0</td>\n",
       "      <td>228.0</td>\n",
       "      <td>0.0</td>\n",
       "      <td>932.0</td>\n",
       "      <td>594.0</td>\n",
       "      <td>180</td>\n",
       "    </tr>\n",
       "    <tr>\n",
       "      <th>...</th>\n",
       "      <td>...</td>\n",
       "      <td>...</td>\n",
       "      <td>...</td>\n",
       "      <td>...</td>\n",
       "      <td>...</td>\n",
       "      <td>...</td>\n",
       "      <td>...</td>\n",
       "      <td>...</td>\n",
       "    </tr>\n",
       "    <tr>\n",
       "      <th>653</th>\n",
       "      <td>102.0</td>\n",
       "      <td>153.0</td>\n",
       "      <td>0.0</td>\n",
       "      <td>192.0</td>\n",
       "      <td>0.0</td>\n",
       "      <td>887.0</td>\n",
       "      <td>942.0</td>\n",
       "      <td>90</td>\n",
       "    </tr>\n",
       "    <tr>\n",
       "      <th>173</th>\n",
       "      <td>318.8</td>\n",
       "      <td>212.5</td>\n",
       "      <td>0.0</td>\n",
       "      <td>155.7</td>\n",
       "      <td>14.3</td>\n",
       "      <td>852.1</td>\n",
       "      <td>880.4</td>\n",
       "      <td>91</td>\n",
       "    </tr>\n",
       "    <tr>\n",
       "      <th>511</th>\n",
       "      <td>424.0</td>\n",
       "      <td>22.0</td>\n",
       "      <td>132.0</td>\n",
       "      <td>178.0</td>\n",
       "      <td>8.5</td>\n",
       "      <td>822.0</td>\n",
       "      <td>750.0</td>\n",
       "      <td>56</td>\n",
       "    </tr>\n",
       "    <tr>\n",
       "      <th>411</th>\n",
       "      <td>173.5</td>\n",
       "      <td>50.1</td>\n",
       "      <td>173.5</td>\n",
       "      <td>164.8</td>\n",
       "      <td>6.5</td>\n",
       "      <td>1006.2</td>\n",
       "      <td>793.5</td>\n",
       "      <td>3</td>\n",
       "    </tr>\n",
       "    <tr>\n",
       "      <th>277</th>\n",
       "      <td>251.4</td>\n",
       "      <td>0.0</td>\n",
       "      <td>118.3</td>\n",
       "      <td>188.5</td>\n",
       "      <td>5.8</td>\n",
       "      <td>1028.4</td>\n",
       "      <td>757.7</td>\n",
       "      <td>56</td>\n",
       "    </tr>\n",
       "  </tbody>\n",
       "</table>\n",
       "<p>721 rows × 8 columns</p>\n",
       "</div>"
      ],
      "text/plain": [
       "     Cement  Blast_Furnace_Slag  Fly_Ash  Water  Superplasticizer  \\\n",
       "936   236.9                91.7     71.5  246.9               6.0   \n",
       "503   491.0                26.0    123.0  210.0               3.9   \n",
       "283   251.4                 0.0    118.3  188.5               6.4   \n",
       "366   214.9                53.8    121.9  155.6               9.6   \n",
       "50    332.5               142.5      0.0  228.0               0.0   \n",
       "..      ...                 ...      ...    ...               ...   \n",
       "653   102.0               153.0      0.0  192.0               0.0   \n",
       "173   318.8               212.5      0.0  155.7              14.3   \n",
       "511   424.0                22.0    132.0  178.0               8.5   \n",
       "411   173.5                50.1    173.5  164.8               6.5   \n",
       "277   251.4                 0.0    118.3  188.5               5.8   \n",
       "\n",
       "     Coarse_Aggregate  Fine_Aggregate  Age  \n",
       "936             852.9           695.4   28  \n",
       "503             882.0           699.0   56  \n",
       "283            1028.4           757.7  100  \n",
       "366            1014.3           780.6   28  \n",
       "50              932.0           594.0  180  \n",
       "..                ...             ...  ...  \n",
       "653             887.0           942.0   90  \n",
       "173             852.1           880.4   91  \n",
       "511             822.0           750.0   56  \n",
       "411            1006.2           793.5    3  \n",
       "277            1028.4           757.7   56  \n",
       "\n",
       "[721 rows x 8 columns]"
      ]
     },
     "execution_count": 14,
     "metadata": {},
     "output_type": "execute_result"
    }
   ],
   "source": [
    "x_train"
   ]
  },
  {
   "cell_type": "code",
   "execution_count": 15,
   "metadata": {},
   "outputs": [
    {
     "data": {
      "text/html": [
       "<div>\n",
       "<style scoped>\n",
       "    .dataframe tbody tr th:only-of-type {\n",
       "        vertical-align: middle;\n",
       "    }\n",
       "\n",
       "    .dataframe tbody tr th {\n",
       "        vertical-align: top;\n",
       "    }\n",
       "\n",
       "    .dataframe thead th {\n",
       "        text-align: right;\n",
       "    }\n",
       "</style>\n",
       "<table border=\"1\" class=\"dataframe\">\n",
       "  <thead>\n",
       "    <tr style=\"text-align: right;\">\n",
       "      <th></th>\n",
       "      <th>Cement</th>\n",
       "      <th>Blast_Furnace_Slag</th>\n",
       "      <th>Fly_Ash</th>\n",
       "      <th>Water</th>\n",
       "      <th>Superplasticizer</th>\n",
       "      <th>Coarse_Aggregate</th>\n",
       "      <th>Fine_Aggregate</th>\n",
       "      <th>Age</th>\n",
       "    </tr>\n",
       "  </thead>\n",
       "  <tbody>\n",
       "    <tr>\n",
       "      <th>304</th>\n",
       "      <td>277.1</td>\n",
       "      <td>0.0</td>\n",
       "      <td>97.4</td>\n",
       "      <td>160.6</td>\n",
       "      <td>11.8</td>\n",
       "      <td>973.9</td>\n",
       "      <td>875.6</td>\n",
       "      <td>3</td>\n",
       "    </tr>\n",
       "    <tr>\n",
       "      <th>424</th>\n",
       "      <td>173.5</td>\n",
       "      <td>50.1</td>\n",
       "      <td>173.5</td>\n",
       "      <td>164.8</td>\n",
       "      <td>6.5</td>\n",
       "      <td>1006.2</td>\n",
       "      <td>793.5</td>\n",
       "      <td>14</td>\n",
       "    </tr>\n",
       "    <tr>\n",
       "      <th>407</th>\n",
       "      <td>165.0</td>\n",
       "      <td>128.5</td>\n",
       "      <td>132.1</td>\n",
       "      <td>175.1</td>\n",
       "      <td>8.1</td>\n",
       "      <td>1005.8</td>\n",
       "      <td>746.6</td>\n",
       "      <td>3</td>\n",
       "    </tr>\n",
       "    <tr>\n",
       "      <th>250</th>\n",
       "      <td>250.0</td>\n",
       "      <td>0.0</td>\n",
       "      <td>95.7</td>\n",
       "      <td>187.4</td>\n",
       "      <td>5.5</td>\n",
       "      <td>956.9</td>\n",
       "      <td>861.2</td>\n",
       "      <td>14</td>\n",
       "    </tr>\n",
       "    <tr>\n",
       "      <th>166</th>\n",
       "      <td>375.0</td>\n",
       "      <td>93.8</td>\n",
       "      <td>0.0</td>\n",
       "      <td>126.6</td>\n",
       "      <td>23.4</td>\n",
       "      <td>852.1</td>\n",
       "      <td>992.6</td>\n",
       "      <td>91</td>\n",
       "    </tr>\n",
       "    <tr>\n",
       "      <th>...</th>\n",
       "      <td>...</td>\n",
       "      <td>...</td>\n",
       "      <td>...</td>\n",
       "      <td>...</td>\n",
       "      <td>...</td>\n",
       "      <td>...</td>\n",
       "      <td>...</td>\n",
       "      <td>...</td>\n",
       "    </tr>\n",
       "    <tr>\n",
       "      <th>921</th>\n",
       "      <td>155.0</td>\n",
       "      <td>0.0</td>\n",
       "      <td>143.0</td>\n",
       "      <td>193.0</td>\n",
       "      <td>9.0</td>\n",
       "      <td>877.0</td>\n",
       "      <td>868.0</td>\n",
       "      <td>28</td>\n",
       "    </tr>\n",
       "    <tr>\n",
       "      <th>960</th>\n",
       "      <td>284.0</td>\n",
       "      <td>119.7</td>\n",
       "      <td>0.0</td>\n",
       "      <td>168.3</td>\n",
       "      <td>7.2</td>\n",
       "      <td>970.4</td>\n",
       "      <td>794.2</td>\n",
       "      <td>28</td>\n",
       "    </tr>\n",
       "    <tr>\n",
       "      <th>555</th>\n",
       "      <td>181.9</td>\n",
       "      <td>272.8</td>\n",
       "      <td>0.0</td>\n",
       "      <td>185.7</td>\n",
       "      <td>0.0</td>\n",
       "      <td>1012.4</td>\n",
       "      <td>714.3</td>\n",
       "      <td>28</td>\n",
       "    </tr>\n",
       "    <tr>\n",
       "      <th>632</th>\n",
       "      <td>325.0</td>\n",
       "      <td>0.0</td>\n",
       "      <td>0.0</td>\n",
       "      <td>184.0</td>\n",
       "      <td>0.0</td>\n",
       "      <td>1063.0</td>\n",
       "      <td>783.0</td>\n",
       "      <td>28</td>\n",
       "    </tr>\n",
       "    <tr>\n",
       "      <th>980</th>\n",
       "      <td>147.8</td>\n",
       "      <td>175.1</td>\n",
       "      <td>0.0</td>\n",
       "      <td>171.2</td>\n",
       "      <td>2.2</td>\n",
       "      <td>1000.0</td>\n",
       "      <td>828.5</td>\n",
       "      <td>28</td>\n",
       "    </tr>\n",
       "  </tbody>\n",
       "</table>\n",
       "<p>309 rows × 8 columns</p>\n",
       "</div>"
      ],
      "text/plain": [
       "     Cement  Blast_Furnace_Slag  Fly_Ash  Water  Superplasticizer  \\\n",
       "304   277.1                 0.0     97.4  160.6              11.8   \n",
       "424   173.5                50.1    173.5  164.8               6.5   \n",
       "407   165.0               128.5    132.1  175.1               8.1   \n",
       "250   250.0                 0.0     95.7  187.4               5.5   \n",
       "166   375.0                93.8      0.0  126.6              23.4   \n",
       "..      ...                 ...      ...    ...               ...   \n",
       "921   155.0                 0.0    143.0  193.0               9.0   \n",
       "960   284.0               119.7      0.0  168.3               7.2   \n",
       "555   181.9               272.8      0.0  185.7               0.0   \n",
       "632   325.0                 0.0      0.0  184.0               0.0   \n",
       "980   147.8               175.1      0.0  171.2               2.2   \n",
       "\n",
       "     Coarse_Aggregate  Fine_Aggregate  Age  \n",
       "304             973.9           875.6    3  \n",
       "424            1006.2           793.5   14  \n",
       "407            1005.8           746.6    3  \n",
       "250             956.9           861.2   14  \n",
       "166             852.1           992.6   91  \n",
       "..                ...             ...  ...  \n",
       "921             877.0           868.0   28  \n",
       "960             970.4           794.2   28  \n",
       "555            1012.4           714.3   28  \n",
       "632            1063.0           783.0   28  \n",
       "980            1000.0           828.5   28  \n",
       "\n",
       "[309 rows x 8 columns]"
      ]
     },
     "execution_count": 15,
     "metadata": {},
     "output_type": "execute_result"
    }
   ],
   "source": [
    "x_test"
   ]
  },
  {
   "cell_type": "code",
   "execution_count": 16,
   "metadata": {},
   "outputs": [
    {
     "data": {
      "text/plain": [
       "936    28.63\n",
       "503    59.59\n",
       "283    44.21\n",
       "366    52.20\n",
       "50     39.78\n",
       "       ...  \n",
       "653    25.46\n",
       "173    68.10\n",
       "511    65.70\n",
       "411    23.08\n",
       "277    36.97\n",
       "Name: Concrete_compressive_strength, Length: 721, dtype: float64"
      ]
     },
     "execution_count": 16,
     "metadata": {},
     "output_type": "execute_result"
    }
   ],
   "source": [
    "y_train"
   ]
  },
  {
   "cell_type": "code",
   "execution_count": 17,
   "metadata": {},
   "outputs": [
    {
     "data": {
      "text/plain": [
       "304    23.14\n",
       "424    33.01\n",
       "407    19.42\n",
       "250    24.92\n",
       "166    62.50\n",
       "       ...  \n",
       "921     9.74\n",
       "960    40.93\n",
       "555    27.94\n",
       "632    30.57\n",
       "980    26.92\n",
       "Name: Concrete_compressive_strength, Length: 309, dtype: float64"
      ]
     },
     "execution_count": 17,
     "metadata": {},
     "output_type": "execute_result"
    }
   ],
   "source": [
    "y_test"
   ]
  },
  {
   "cell_type": "markdown",
   "metadata": {},
   "source": [
    "### Create model object\n",
    "#### create linear-regression model and training by model_object.fit(x,y)"
   ]
  },
  {
   "cell_type": "code",
   "execution_count": 18,
   "metadata": {},
   "outputs": [
    {
     "data": {
      "text/plain": [
       "LinearRegression(copy_X=True, fit_intercept=True, n_jobs=None, normalize=False)"
      ]
     },
     "execution_count": 18,
     "metadata": {},
     "output_type": "execute_result"
    }
   ],
   "source": [
    "from sklearn.linear_model import LinearRegression\n",
    "\n",
    "m_reg = LinearRegression(fit_intercept = True) #fit_intercept -> beta0 생성 여부\n",
    "\n",
    "m_reg.fit(x_train, y_train) "
   ]
  },
  {
   "cell_type": "code",
   "execution_count": 19,
   "metadata": {},
   "outputs": [
    {
     "name": "stdout",
     "output_type": "stream",
     "text": [
      "y = -15.588 + 0.116 x1 + 0.095 x2 + 0.082 x3 + -0.147 x4 + 0.354 x5+ 0.015 x6+ 0.016 x7 + 0.105 x8\n"
     ]
    }
   ],
   "source": [
    "# Make constant value\n",
    "beta0 = m_reg.intercept_\n",
    "\n",
    "# Make other coefficients of independent variables\n",
    "beta1 = m_reg.coef_\n",
    "print('y = {} + {} x1 + {} x2 + {} x3 + {} x4 + {} x5+ {} x6+ {} x7 + {} x8'.format(round(beta0,3),\n",
    "                                                                                    round(beta1[0],3),\n",
    "                                                                                    round(beta1[1],3),\n",
    "                                                                                    round(beta1[2],3),\n",
    "                                                                                    round(beta1[3],3),\n",
    "                                                                                    round(beta1[4],3), \n",
    "                                                                                    round(beta1[5],3), \n",
    "                                                                                    round(beta1[6],3), \n",
    "                                                                                    round(beta1[7],3)))"
   ]
  },
  {
   "cell_type": "markdown",
   "metadata": {},
   "source": [
    "### Checking another model by numpy calculation\n",
    "\n",
    "* Coefficient formula is by\n",
    "![image](https://user-images.githubusercontent.com/56014940/83259451-0585c880-a1f3-11ea-87a8-79236db0727d.png)\n",
    "\n",
    "\n",
    "\n",
    "* Manually compute to test whether the packages in scikit-learn have the same results\n"
   ]
  },
  {
   "cell_type": "code",
   "execution_count": 20,
   "metadata": {
    "scrolled": true
   },
   "outputs": [
    {
     "name": "stdout",
     "output_type": "stream",
     "text": [
      "Dimension of array X : (721, 9) \n",
      "Dimension of array XtX : (9, 9) \n",
      "Dimension of array XtX_inv: (9, 9) \n",
      "y = -15.588 + 0.116 x1 + 0.095 x2 + 0.082 x3 + -0.147 x4 + 0.354 x5 + 0.015 x6 + 0.016 x7 + 0.105 x8\n"
     ]
    }
   ],
   "source": [
    "n = len(x_train)\n",
    "\n",
    "X = np.c_[np.ones(n), x_train]\n",
    "print('Dimension of array X : {} '.format(X.shape))\n",
    "\n",
    "XtX = np.matmul(X.T,X)\n",
    "print('Dimension of array XtX : {} '.format(XtX.shape))\n",
    "\n",
    "XtX_inv=np.linalg.inv(XtX)\n",
    "print('Dimension of array XtX_inv: {} '.format(XtX_inv.shape))\n",
    "\n",
    "beta=np.matmul(np.matmul(XtX_inv, X.T), y_train)\n",
    "\n",
    "print('y = {} + {} x1 + {} x2 + {} x3 + {} x4 + {} x5 + {} x6 + {} x7 + {} x8'.format(round(beta[0],3),\n",
    "                                                                                      round(beta[1],3),\n",
    "                                                                                      round(beta[2],3),\n",
    "                                                                                      round(beta[3],3),\n",
    "                                                                                      round(beta[4],3),\n",
    "                                                                                      round(beta[5],3),\n",
    "                                                                                      round(beta[6],3),\n",
    "                                                                                      round(beta[7],3),\n",
    "                                                                                      round(beta[8],3)))"
   ]
  },
  {
   "cell_type": "markdown",
   "metadata": {},
   "source": [
    "* We can same formula each test.\n",
    "* The regression model confirmed that there was no abnormality."
   ]
  },
  {
   "cell_type": "markdown",
   "metadata": {},
   "source": [
    "### Difference of real data and regression model\n",
    "\n",
    "* It can measure to difference of real data and regression predict value by plot.\n",
    "* The darker the color, the more the prediction value overlaps the actual value, and the cloudy color means that the two values ​​are not right."
   ]
  },
  {
   "cell_type": "code",
   "execution_count": 21,
   "metadata": {},
   "outputs": [
    {
     "data": {
      "image/png": "[encoded data removed]",
      "text/plain": [
       "<Figure size 432x288 with 1 Axes>"
      ]
     },
     "metadata": {
      "needs_background": "light"
     },
     "output_type": "display_data"
    }
   ],
   "source": [
    "y_predict = m_reg.predict(x_test)\n",
    "plt.scatter(y_test,y_predict, alpha=0.4)\n",
    "line = np.linspace(min(y_test.values), max(y_test.values), 1000)\n",
    "plt.plot(line, line, color = 'r')\n",
    "plt.xlabel('y_test')\n",
    "plt.ylabel('y_pred')\n",
    "plt.show()"
   ]
  },
  {
   "cell_type": "markdown",
   "metadata": {},
   "source": [
    "### Measure of model calculate\n",
    "\n",
    "* mean_squared_error(y_test, y_predict) : **return MSE.** RMSE = sqrt(MSE)\n",
    "* r2_score(y_test, y_predict) : **return variance of y_pred**\n",
    "* model.score(x_train, y_train) : **return r2_score of model**"
   ]
  },
  {
   "cell_type": "code",
   "execution_count": 22,
   "metadata": {},
   "outputs": [],
   "source": [
    "from sklearn.metrics import mean_squared_error, r2_score\n",
    "mse = mean_squared_error(y_test, y_predict)\n",
    "rmse = np.sqrt(mse)"
   ]
  },
  {
   "cell_type": "code",
   "execution_count": 23,
   "metadata": {},
   "outputs": [
    {
     "name": "stdout",
     "output_type": "stream",
     "text": [
      "MSE : 110.488, RMSE : 10.511\n"
     ]
    }
   ],
   "source": [
    "print('MSE : {0:.3f}, RMSE : {1:.3f}'.format(mse,rmse))"
   ]
  },
  {
   "cell_type": "code",
   "execution_count": 24,
   "metadata": {},
   "outputs": [
    {
     "name": "stdout",
     "output_type": "stream",
     "text": [
      "Variance score : 0.645\n"
     ]
    }
   ],
   "source": [
    "print('Variance score : {0:.3f}'.format(r2_score(y_test,y_predict)))"
   ]
  },
  {
   "cell_type": "code",
   "execution_count": 25,
   "metadata": {},
   "outputs": [
    {
     "name": "stdout",
     "output_type": "stream",
     "text": [
      "R2 score : 0.597\n"
     ]
    }
   ],
   "source": [
    "print('R2 score : {0:.3f}'.format(m_reg.score(x_train, y_train)))"
   ]
  },
  {
   "cell_type": "markdown",
   "metadata": {},
   "source": [
    "### Using Statsmodels.api, it can print summary of linear model"
   ]
  },
  {
   "cell_type": "code",
   "execution_count": 26,
   "metadata": {},
   "outputs": [
    {
     "data": {
      "text/html": [
       "<table class=\"simpletable\">\n",
       "<caption>OLS Regression Results</caption>\n",
       "<tr>\n",
       "  <th>Dep. Variable:</th>    <td>Concrete_compressive_strength</td> <th>  R-squared:         </th> <td>   0.597</td> \n",
       "</tr>\n",
       "<tr>\n",
       "  <th>Model:</th>                         <td>OLS</td>              <th>  Adj. R-squared:    </th> <td>   0.593</td> \n",
       "</tr>\n",
       "<tr>\n",
       "  <th>Method:</th>                   <td>Least Squares</td>         <th>  F-statistic:       </th> <td>   132.0</td> \n",
       "</tr>\n",
       "<tr>\n",
       "  <th>Date:</th>                   <td>Mon, 01 Jun 2020</td>        <th>  Prob (F-statistic):</th> <td>3.92e-135</td>\n",
       "</tr>\n",
       "<tr>\n",
       "  <th>Time:</th>                       <td>01:14:27</td>            <th>  Log-Likelihood:    </th> <td> -2705.6</td> \n",
       "</tr>\n",
       "<tr>\n",
       "  <th>No. Observations:</th>            <td>   721</td>             <th>  AIC:               </th> <td>   5429.</td> \n",
       "</tr>\n",
       "<tr>\n",
       "  <th>Df Residuals:</th>                <td>   712</td>             <th>  BIC:               </th> <td>   5470.</td> \n",
       "</tr>\n",
       "<tr>\n",
       "  <th>Df Model:</th>                    <td>     8</td>             <th>                     </th>     <td> </td>    \n",
       "</tr>\n",
       "<tr>\n",
       "  <th>Covariance Type:</th>            <td>nonrobust</td>           <th>                     </th>     <td> </td>    \n",
       "</tr>\n",
       "</table>\n",
       "<table class=\"simpletable\">\n",
       "<tr>\n",
       "           <td></td>             <th>coef</th>     <th>std err</th>      <th>t</th>      <th>P>|t|</th>  <th>[0.025</th>    <th>0.975]</th>  \n",
       "</tr>\n",
       "<tr>\n",
       "  <th>const</th>              <td>  -15.5882</td> <td>   31.879</td> <td>   -0.489</td> <td> 0.625</td> <td>  -78.177</td> <td>   47.001</td>\n",
       "</tr>\n",
       "<tr>\n",
       "  <th>Cement</th>             <td>    0.1164</td> <td>    0.010</td> <td>   11.645</td> <td> 0.000</td> <td>    0.097</td> <td>    0.136</td>\n",
       "</tr>\n",
       "<tr>\n",
       "  <th>Blast_Furnace_Slag</th> <td>    0.0954</td> <td>    0.012</td> <td>    7.969</td> <td> 0.000</td> <td>    0.072</td> <td>    0.119</td>\n",
       "</tr>\n",
       "<tr>\n",
       "  <th>Fly_Ash</th>            <td>    0.0816</td> <td>    0.015</td> <td>    5.507</td> <td> 0.000</td> <td>    0.053</td> <td>    0.111</td>\n",
       "</tr>\n",
       "<tr>\n",
       "  <th>Water</th>              <td>   -0.1467</td> <td>    0.049</td> <td>   -3.019</td> <td> 0.003</td> <td>   -0.242</td> <td>   -0.051</td>\n",
       "</tr>\n",
       "<tr>\n",
       "  <th>Superplasticizer</th>   <td>    0.3544</td> <td>    0.116</td> <td>    3.045</td> <td> 0.002</td> <td>    0.126</td> <td>    0.583</td>\n",
       "</tr>\n",
       "<tr>\n",
       "  <th>Coarse_Aggregate</th>   <td>    0.0152</td> <td>    0.011</td> <td>    1.350</td> <td> 0.178</td> <td>   -0.007</td> <td>    0.037</td>\n",
       "</tr>\n",
       "<tr>\n",
       "  <th>Fine_Aggregate</th>     <td>    0.0155</td> <td>    0.013</td> <td>    1.215</td> <td> 0.225</td> <td>   -0.010</td> <td>    0.041</td>\n",
       "</tr>\n",
       "<tr>\n",
       "  <th>Age</th>                <td>    0.1054</td> <td>    0.006</td> <td>   16.813</td> <td> 0.000</td> <td>    0.093</td> <td>    0.118</td>\n",
       "</tr>\n",
       "</table>\n",
       "<table class=\"simpletable\">\n",
       "<tr>\n",
       "  <th>Omnibus:</th>       <td> 2.181</td> <th>  Durbin-Watson:     </th> <td>   2.008</td>\n",
       "</tr>\n",
       "<tr>\n",
       "  <th>Prob(Omnibus):</th> <td> 0.336</td> <th>  Jarque-Bera (JB):  </th> <td>   2.198</td>\n",
       "</tr>\n",
       "<tr>\n",
       "  <th>Skew:</th>          <td>-0.134</td> <th>  Prob(JB):          </th> <td>   0.333</td>\n",
       "</tr>\n",
       "<tr>\n",
       "  <th>Kurtosis:</th>      <td> 2.959</td> <th>  Cond. No.          </th> <td>1.07e+05</td>\n",
       "</tr>\n",
       "</table><br/><br/>Warnings:<br/>[1] Standard Errors assume that the covariance matrix of the errors is correctly specified.<br/>[2] The condition number is large, 1.07e+05. This might indicate that there are<br/>strong multicollinearity or other numerical problems."
      ],
      "text/plain": [
       "<class 'statsmodels.iolib.summary.Summary'>\n",
       "\"\"\"\n",
       "                                  OLS Regression Results                                 \n",
       "=========================================================================================\n",
       "Dep. Variable:     Concrete_compressive_strength   R-squared:                       0.597\n",
       "Model:                                       OLS   Adj. R-squared:                  0.593\n",
       "Method:                            Least Squares   F-statistic:                     132.0\n",
       "Date:                           Mon, 01 Jun 2020   Prob (F-statistic):          3.92e-135\n",
       "Time:                                   01:14:27   Log-Likelihood:                -2705.6\n",
       "No. Observations:                            721   AIC:                             5429.\n",
       "Df Residuals:                                712   BIC:                             5470.\n",
       "Df Model:                                      8                                         \n",
       "Covariance Type:                       nonrobust                                         \n",
       "======================================================================================\n",
       "                         coef    std err          t      P>|t|      [0.025      0.975]\n",
       "--------------------------------------------------------------------------------------\n",
       "const                -15.5882     31.879     -0.489      0.625     -78.177      47.001\n",
       "Cement                 0.1164      0.010     11.645      0.000       0.097       0.136\n",
       "Blast_Furnace_Slag     0.0954      0.012      7.969      0.000       0.072       0.119\n",
       "Fly_Ash                0.0816      0.015      5.507      0.000       0.053       0.111\n",
       "Water                 -0.1467      0.049     -3.019      0.003      -0.242      -0.051\n",
       "Superplasticizer       0.3544      0.116      3.045      0.002       0.126       0.583\n",
       "Coarse_Aggregate       0.0152      0.011      1.350      0.178      -0.007       0.037\n",
       "Fine_Aggregate         0.0155      0.013      1.215      0.225      -0.010       0.041\n",
       "Age                    0.1054      0.006     16.813      0.000       0.093       0.118\n",
       "==============================================================================\n",
       "Omnibus:                        2.181   Durbin-Watson:                   2.008\n",
       "Prob(Omnibus):                  0.336   Jarque-Bera (JB):                2.198\n",
       "Skew:                          -0.134   Prob(JB):                        0.333\n",
       "Kurtosis:                       2.959   Cond. No.                     1.07e+05\n",
       "==============================================================================\n",
       "\n",
       "Warnings:\n",
       "[1] Standard Errors assume that the covariance matrix of the errors is correctly specified.\n",
       "[2] The condition number is large, 1.07e+05. This might indicate that there are\n",
       "strong multicollinearity or other numerical problems.\n",
       "\"\"\""
      ]
     },
     "execution_count": 26,
     "metadata": {},
     "output_type": "execute_result"
    }
   ],
   "source": [
    "import statsmodels.api as sm \n",
    "X1 = sm.add_constant(x_train)\n",
    "reg = sm.OLS(y_train, X1).fit()\n",
    "reg.summary()"
   ]
  },
  {
   "cell_type": "markdown",
   "metadata": {},
   "source": [
    "## Summary analysis\n",
    "\n",
    "### model analysis\n",
    "\n",
    ">R-squared : 0.597 / Adj. R-squared : 0.593\n",
    "\n",
    ">OLS regression model has 59% explanatory power.\n",
    "\n",
    "### P-value observation result\n",
    "\n",
    "> The following variables are p-values of 0.05 or higher, so it is difficult to use them as appropriate variables in the regression equation statistically.\n",
    "\n",
    "> 1.const (P-value : 0.625)\n",
    "\n",
    "> 2.Coarse_Aggregate (P-value : 0.178)\n",
    "\n",
    "> 3.Fine_Aggregate (P-value : 0.225)\n",
    "\n",
    "**Final linear regression formula is by**\n",
    "\n",
    "$$ Concrete\\;compressive\\;strength= 0.11*Cement + 0.09*Blast\\,Furnace\\,Slag + 0.08*Fly\\,Ash  $$ $$- 0.14*Water+ 0.35*Superplasticizer+ 0.11*Age $$"
   ]
  },
  {
   "cell_type": "code",
   "execution_count": 60,
   "metadata": {},
   "outputs": [
    {
     "data": {
      "text/plain": [
       "<matplotlib.axes._subplots.AxesSubplot at 0x23eb58f4408>"
      ]
     },
     "execution_count": 60,
     "metadata": {},
     "output_type": "execute_result"
    },
    {
     "data": {
      "image/png": "[encoded data removed]",
      "text/plain": [
       "<Figure size 432x288 with 1 Axes>"
      ]
     },
     "metadata": {
      "needs_background": "light"
     },
     "output_type": "display_data"
    }
   ],
   "source": [
    "result = pd.Series(y_predict)\n",
    "plt.title(\"Raw data model output\")\n",
    "result.hist()"
   ]
  },
  {
   "cell_type": "code",
   "execution_count": 59,
   "metadata": {},
   "outputs": [
    {
     "data": {
      "text/plain": [
       "<matplotlib.axes._subplots.AxesSubplot at 0x23eb573b4c8>"
      ]
     },
     "execution_count": 59,
     "metadata": {},
     "output_type": "execute_result"
    },
    {
     "data": {
      "image/png": "[encoded data removed]",
      "text/plain": [
       "<Figure size 432x288 with 1 Axes>"
      ]
     },
     "metadata": {
      "needs_background": "light"
     },
     "output_type": "display_data"
    }
   ],
   "source": [
    "plt.title(\"Raw data Output variable\")\n",
    "y.hist()"
   ]
  },
  {
   "cell_type": "markdown",
   "metadata": {},
   "source": [
    "### Addiction analysis(log scale)\n",
    "* Previous experiments have shown that the model's performance is not good. (R2 score : 0.59)\n",
    "* Therefore, we try to proceed the experiment through log scaling."
   ]
  },
  {
   "cell_type": "code",
   "execution_count": 27,
   "metadata": {},
   "outputs": [
    {
     "data": {
      "text/plain": [
       "<matplotlib.axes._subplots.AxesSubplot at 0x23eb55dd308>"
      ]
     },
     "execution_count": 27,
     "metadata": {},
     "output_type": "execute_result"
    },
    {
     "data": {
      "image/png": "[encoded data removed]",
      "text/plain": [
       "<Figure size 432x288 with 1 Axes>"
      ]
     },
     "metadata": {
      "needs_background": "light"
     },
     "output_type": "display_data"
    }
   ],
   "source": [
    "plt.title(\"Concrete compressive strength\")\n",
    "y.hist()"
   ]
  },
  {
   "cell_type": "code",
   "execution_count": 28,
   "metadata": {},
   "outputs": [
    {
     "data": {
      "text/plain": [
       "<matplotlib.axes._subplots.AxesSubplot at 0x23eb37a31c8>"
      ]
     },
     "execution_count": 28,
     "metadata": {},
     "output_type": "execute_result"
    },
    {
     "data": {
      "image/png": "[encoded data removed]",
      "text/plain": [
       "<Figure size 432x288 with 1 Axes>"
      ]
     },
     "metadata": {
      "needs_background": "light"
     },
     "output_type": "display_data"
    }
   ],
   "source": [
    "plt.title(\"log-scaling Concrete compressive strength\")\n",
    "y_log_trans = np.log1p(y)\n",
    "y_log_trans.hist()"
   ]
  },
  {
   "cell_type": "code",
   "execution_count": 29,
   "metadata": {},
   "outputs": [],
   "source": [
    "x_log_trans = np.log1p(x)"
   ]
  },
  {
   "cell_type": "code",
   "execution_count": 30,
   "metadata": {},
   "outputs": [
    {
     "data": {
      "image/png": "[encoded data removed]",
      "text/plain": [
       "<Figure size 432x288 with 4 Axes>"
      ]
     },
     "metadata": {
      "needs_background": "light"
     },
     "output_type": "display_data"
    }
   ],
   "source": [
    "for i in range(0,4):\n",
    "    plt.subplot(2,2,i+1)\n",
    "    plt.title('log-scaling'+x_log_trans.columns[i])\n",
    "    x_log_trans.iloc[:,i].hist()"
   ]
  },
  {
   "cell_type": "code",
   "execution_count": 31,
   "metadata": {},
   "outputs": [
    {
     "data": {
      "image/png": "[encoded data removed]",
      "text/plain": [
       "<Figure size 432x288 with 4 Axes>"
      ]
     },
     "metadata": {
      "needs_background": "light"
     },
     "output_type": "display_data"
    }
   ],
   "source": [
    "for i in range(4,8):\n",
    "    plt.subplot(2,2,i-3)\n",
    "    plt.title('log-scaling'+data.columns[i])\n",
    "    x_log_trans.iloc[:,i].hist()"
   ]
  },
  {
   "cell_type": "code",
   "execution_count": 32,
   "metadata": {},
   "outputs": [
    {
     "data": {
      "text/plain": [
       "LinearRegression(copy_X=True, fit_intercept=True, n_jobs=None, normalize=False)"
      ]
     },
     "execution_count": 32,
     "metadata": {},
     "output_type": "execute_result"
    }
   ],
   "source": [
    "from sklearn.model_selection import train_test_split\n",
    "\n",
    "log_x_train, log_x_test, log_y_train, log_y_test = train_test_split(x_log_trans, y_log_trans, train_size=0.7, test_size=0.3, random_state=142)\n",
    "\n",
    "from sklearn.linear_model import LinearRegression\n",
    "\n",
    "log_m_reg = LinearRegression(fit_intercept = True) #fit_intercept -> beta0 생성 여부\n",
    "\n",
    "log_m_reg.fit(log_x_train, log_y_train) "
   ]
  },
  {
   "cell_type": "code",
   "execution_count": 33,
   "metadata": {},
   "outputs": [
    {
     "name": "stdout",
     "output_type": "stream",
     "text": [
      "y = 6.05 + 0.772 x1 + 0.068 x2 + 0.027 x3 + -1.134 x4 + 0.059 x5+ -0.009 x6+ -0.327 x7 + 0.295 x8\n"
     ]
    }
   ],
   "source": [
    "# Make constant value\n",
    "beta0 = log_m_reg.intercept_\n",
    "\n",
    "# Make other coefficients of independent variables\n",
    "beta1 = log_m_reg.coef_\n",
    "print('y = {} + {} x1 + {} x2 + {} x3 + {} x4 + {} x5+ {} x6+ {} x7 + {} x8'.format(round(beta0,3),\n",
    "                                                                                    round(beta1[0],3),\n",
    "                                                                                    round(beta1[1],3),\n",
    "                                                                                    round(beta1[2],3),\n",
    "                                                                                    round(beta1[3],3),\n",
    "                                                                                    round(beta1[4],3), \n",
    "                                                                                    round(beta1[5],3), \n",
    "                                                                                    round(beta1[6],3), \n",
    "                                                                                    round(beta1[7],3)))"
   ]
  },
  {
   "cell_type": "code",
   "execution_count": 34,
   "metadata": {},
   "outputs": [
    {
     "data": {
      "image/png": "[encoded data removed]",
      "text/plain": [
       "<Figure size 432x288 with 1 Axes>"
      ]
     },
     "metadata": {
      "needs_background": "light"
     },
     "output_type": "display_data"
    }
   ],
   "source": [
    "log_y_predict = log_m_reg.predict(log_x_test)\n",
    "plt.scatter(log_y_test,log_y_predict, alpha=0.4)\n",
    "line = np.linspace(min(log_y_test.values), max(log_y_test.values), 1000)\n",
    "plt.plot(line, line, color = 'r')\n",
    "plt.xlabel('log_y_test')\n",
    "plt.ylabel('log_y_pred')\n",
    "plt.show()"
   ]
  },
  {
   "cell_type": "markdown",
   "metadata": {},
   "source": [
    "* It can be seen that residual a lot diminishes."
   ]
  },
  {
   "cell_type": "code",
   "execution_count": 35,
   "metadata": {},
   "outputs": [],
   "source": [
    "from sklearn.metrics import mean_squared_error, r2_score\n",
    "log_mse = mean_squared_error(log_y_test, log_y_predict)\n",
    "log_rmse = np.sqrt(log_mse)"
   ]
  },
  {
   "cell_type": "code",
   "execution_count": 36,
   "metadata": {},
   "outputs": [
    {
     "name": "stdout",
     "output_type": "stream",
     "text": [
      "log_MSE : 0.053, log_RMSE : 0.231\n",
      "log_Variance score : 0.820\n",
      "log_R2 score : 0.785\n"
     ]
    }
   ],
   "source": [
    "print('log_MSE : {0:.3f}, log_RMSE : {1:.3f}'.format(log_mse,log_rmse))\n",
    "print('log_Variance score : {0:.3f}'.format(r2_score(log_y_test,log_y_predict)))\n",
    "print('log_R2 score : {0:.3f}'.format(log_m_reg.score(log_x_train, log_y_train)))"
   ]
  },
  {
   "cell_type": "markdown",
   "metadata": {},
   "source": [
    "#### - Overall, the performance of the model, such as MSE and RMSE, has risen significantly."
   ]
  },
  {
   "cell_type": "code",
   "execution_count": 37,
   "metadata": {},
   "outputs": [
    {
     "data": {
      "text/html": [
       "<table class=\"simpletable\">\n",
       "<caption>OLS Regression Results</caption>\n",
       "<tr>\n",
       "  <th>Dep. Variable:</th>    <td>Concrete_compressive_strength</td> <th>  R-squared:         </th> <td>   0.785</td> \n",
       "</tr>\n",
       "<tr>\n",
       "  <th>Model:</th>                         <td>OLS</td>              <th>  Adj. R-squared:    </th> <td>   0.783</td> \n",
       "</tr>\n",
       "<tr>\n",
       "  <th>Method:</th>                   <td>Least Squares</td>         <th>  F-statistic:       </th> <td>   325.2</td> \n",
       "</tr>\n",
       "<tr>\n",
       "  <th>Date:</th>                   <td>Mon, 01 Jun 2020</td>        <th>  Prob (F-statistic):</th> <td>6.91e-232</td>\n",
       "</tr>\n",
       "<tr>\n",
       "  <th>Time:</th>                       <td>01:14:28</td>            <th>  Log-Likelihood:    </th> <td>  6.0964</td> \n",
       "</tr>\n",
       "<tr>\n",
       "  <th>No. Observations:</th>            <td>   721</td>             <th>  AIC:               </th> <td>   5.807</td> \n",
       "</tr>\n",
       "<tr>\n",
       "  <th>Df Residuals:</th>                <td>   712</td>             <th>  BIC:               </th> <td>   47.03</td> \n",
       "</tr>\n",
       "<tr>\n",
       "  <th>Df Model:</th>                    <td>     8</td>             <th>                     </th>     <td> </td>    \n",
       "</tr>\n",
       "<tr>\n",
       "  <th>Covariance Type:</th>            <td>nonrobust</td>           <th>                     </th>     <td> </td>    \n",
       "</tr>\n",
       "</table>\n",
       "<table class=\"simpletable\">\n",
       "<tr>\n",
       "           <td></td>             <th>coef</th>     <th>std err</th>      <th>t</th>      <th>P>|t|</th>  <th>[0.025</th>    <th>0.975]</th>  \n",
       "</tr>\n",
       "<tr>\n",
       "  <th>const</th>              <td>    6.0502</td> <td>    2.845</td> <td>    2.126</td> <td> 0.034</td> <td>    0.464</td> <td>   11.636</td>\n",
       "</tr>\n",
       "<tr>\n",
       "  <th>Cement</th>             <td>    0.7724</td> <td>    0.039</td> <td>   19.845</td> <td> 0.000</td> <td>    0.696</td> <td>    0.849</td>\n",
       "</tr>\n",
       "<tr>\n",
       "  <th>Blast_Furnace_Slag</th> <td>    0.0683</td> <td>    0.006</td> <td>   10.636</td> <td> 0.000</td> <td>    0.056</td> <td>    0.081</td>\n",
       "</tr>\n",
       "<tr>\n",
       "  <th>Fly_Ash</th>            <td>    0.0270</td> <td>    0.007</td> <td>    4.105</td> <td> 0.000</td> <td>    0.014</td> <td>    0.040</td>\n",
       "</tr>\n",
       "<tr>\n",
       "  <th>Water</th>              <td>   -1.1343</td> <td>    0.152</td> <td>   -7.454</td> <td> 0.000</td> <td>   -1.433</td> <td>   -0.836</td>\n",
       "</tr>\n",
       "<tr>\n",
       "  <th>Superplasticizer</th>   <td>    0.0585</td> <td>    0.015</td> <td>    4.000</td> <td> 0.000</td> <td>    0.030</td> <td>    0.087</td>\n",
       "</tr>\n",
       "<tr>\n",
       "  <th>Coarse_Aggregate</th>   <td>   -0.0088</td> <td>    0.184</td> <td>   -0.048</td> <td> 0.962</td> <td>   -0.371</td> <td>    0.353</td>\n",
       "</tr>\n",
       "<tr>\n",
       "  <th>Fine_Aggregate</th>     <td>   -0.3273</td> <td>    0.147</td> <td>   -2.233</td> <td> 0.026</td> <td>   -0.615</td> <td>   -0.040</td>\n",
       "</tr>\n",
       "<tr>\n",
       "  <th>Age</th>                <td>    0.2946</td> <td>    0.008</td> <td>   35.573</td> <td> 0.000</td> <td>    0.278</td> <td>    0.311</td>\n",
       "</tr>\n",
       "</table>\n",
       "<table class=\"simpletable\">\n",
       "<tr>\n",
       "  <th>Omnibus:</th>       <td>45.677</td> <th>  Durbin-Watson:     </th> <td>   1.907</td>\n",
       "</tr>\n",
       "<tr>\n",
       "  <th>Prob(Omnibus):</th> <td> 0.000</td> <th>  Jarque-Bera (JB):  </th> <td>  56.796</td>\n",
       "</tr>\n",
       "<tr>\n",
       "  <th>Skew:</th>          <td>-0.572</td> <th>  Prob(JB):          </th> <td>4.64e-13</td>\n",
       "</tr>\n",
       "<tr>\n",
       "  <th>Kurtosis:</th>      <td> 3.764</td> <th>  Cond. No.          </th> <td>4.19e+03</td>\n",
       "</tr>\n",
       "</table><br/><br/>Warnings:<br/>[1] Standard Errors assume that the covariance matrix of the errors is correctly specified.<br/>[2] The condition number is large, 4.19e+03. This might indicate that there are<br/>strong multicollinearity or other numerical problems."
      ],
      "text/plain": [
       "<class 'statsmodels.iolib.summary.Summary'>\n",
       "\"\"\"\n",
       "                                  OLS Regression Results                                 \n",
       "=========================================================================================\n",
       "Dep. Variable:     Concrete_compressive_strength   R-squared:                       0.785\n",
       "Model:                                       OLS   Adj. R-squared:                  0.783\n",
       "Method:                            Least Squares   F-statistic:                     325.2\n",
       "Date:                           Mon, 01 Jun 2020   Prob (F-statistic):          6.91e-232\n",
       "Time:                                   01:14:28   Log-Likelihood:                 6.0964\n",
       "No. Observations:                            721   AIC:                             5.807\n",
       "Df Residuals:                                712   BIC:                             47.03\n",
       "Df Model:                                      8                                         \n",
       "Covariance Type:                       nonrobust                                         \n",
       "======================================================================================\n",
       "                         coef    std err          t      P>|t|      [0.025      0.975]\n",
       "--------------------------------------------------------------------------------------\n",
       "const                  6.0502      2.845      2.126      0.034       0.464      11.636\n",
       "Cement                 0.7724      0.039     19.845      0.000       0.696       0.849\n",
       "Blast_Furnace_Slag     0.0683      0.006     10.636      0.000       0.056       0.081\n",
       "Fly_Ash                0.0270      0.007      4.105      0.000       0.014       0.040\n",
       "Water                 -1.1343      0.152     -7.454      0.000      -1.433      -0.836\n",
       "Superplasticizer       0.0585      0.015      4.000      0.000       0.030       0.087\n",
       "Coarse_Aggregate      -0.0088      0.184     -0.048      0.962      -0.371       0.353\n",
       "Fine_Aggregate        -0.3273      0.147     -2.233      0.026      -0.615      -0.040\n",
       "Age                    0.2946      0.008     35.573      0.000       0.278       0.311\n",
       "==============================================================================\n",
       "Omnibus:                       45.677   Durbin-Watson:                   1.907\n",
       "Prob(Omnibus):                  0.000   Jarque-Bera (JB):               56.796\n",
       "Skew:                          -0.572   Prob(JB):                     4.64e-13\n",
       "Kurtosis:                       3.764   Cond. No.                     4.19e+03\n",
       "==============================================================================\n",
       "\n",
       "Warnings:\n",
       "[1] Standard Errors assume that the covariance matrix of the errors is correctly specified.\n",
       "[2] The condition number is large, 4.19e+03. This might indicate that there are\n",
       "strong multicollinearity or other numerical problems.\n",
       "\"\"\""
      ]
     },
     "execution_count": 37,
     "metadata": {},
     "output_type": "execute_result"
    }
   ],
   "source": [
    "import statsmodels.api as sm \n",
    "X1 = sm.add_constant(log_x_train)\n",
    "reg = sm.OLS(log_y_train, X1).fit()\n",
    "reg.summary()"
   ]
  },
  {
   "cell_type": "markdown",
   "metadata": {},
   "source": [
    "## Summary analysis(log-scaling)\n",
    "\n",
    "### model analysis\n",
    "\n",
    ">R-squared : 0.785 / Adj. R-squared : 0.783\n",
    "\n",
    ">OLS regression model has 78% explanatory power.\n",
    "\n",
    "### => Before R-squared : 0.59, Log-scale R-squared : 0.785\n",
    "### => About 20% performance increase\n",
    "\n",
    "### P-value observation result\n",
    "\n",
    "> The following variables are p-values of 0.05 or higher, so it is difficult to use them as appropriate variables in the regression equation statistically.\n",
    "\n",
    "> 1.Coarse_Aggregate (P-value : 0.962)\n",
    "\n",
    "### => We can observe that the p-value of the variables is stabilized overall.\n",
    "\n",
    "### Final linear regression formula is by\n",
    "\n",
    "$$ Concrete\\;compressive\\;strength= 6.05+ 0.77*Cement + 0.06*Blast\\,Furnace\\,Slag + 0.02*Fly\\,Ash  $$ $$- 1.13*Water+ 0.05*Superplasticizer- 0.32*Fine\\,Aggregate+ 0.29*Age $$"
   ]
  },
  {
   "cell_type": "code",
   "execution_count": 52,
   "metadata": {},
   "outputs": [
    {
     "data": {
      "text/plain": [
       "<matplotlib.axes._subplots.AxesSubplot at 0x23eb5a26e48>"
      ]
     },
     "execution_count": 52,
     "metadata": {},
     "output_type": "execute_result"
    },
    {
     "data": {
      "image/png": "[encoded data removed]",
      "text/plain": [
       "<Figure size 432x288 with 1 Axes>"
      ]
     },
     "metadata": {
      "needs_background": "light"
     },
     "output_type": "display_data"
    }
   ],
   "source": [
    "# expm1 = exp(x)-1\n",
    "# By expm1 function, we can get origin value before using log-scale\n",
    "result = np.expm1(log_y_predict)\n",
    "result = pd.Series(result)\n",
    "plt.title(\"log-scaling model output\")\n",
    "result.hist()"
   ]
  },
  {
   "cell_type": "code",
   "execution_count": 53,
   "metadata": {},
   "outputs": [
    {
     "data": {
      "text/plain": [
       "<matplotlib.axes._subplots.AxesSubplot at 0x23eb59ea408>"
      ]
     },
     "execution_count": 53,
     "metadata": {},
     "output_type": "execute_result"
    },
    {
     "data": {
      "image/png": "[encoded data removed]",
      "text/plain": [
       "<Figure size 432x288 with 1 Axes>"
      ]
     },
     "metadata": {
      "needs_background": "light"
     },
     "output_type": "display_data"
    }
   ],
   "source": [
    "plt.title(\"Raw data Output variable\")\n",
    "y.hist()"
   ]
  },
  {
   "cell_type": "markdown",
   "metadata": {},
   "source": [
    "### Addiction analysis(Standscale scale)\n",
    "* Previous experiments have shown that the model's performance is not good.\n",
    "* Therefore, we try to proceed the experiment through log scaling."
   ]
  },
  {
   "cell_type": "code",
   "execution_count": 40,
   "metadata": {},
   "outputs": [],
   "source": [
    "from sklearn.preprocessing import StandardScaler\n",
    "scaler = StandardScaler()\n",
    "scaler.fit(x)\n",
    "x_scaled = scaler.transform(x)\n",
    "x_standard = pd.DataFrame(x_scaled)"
   ]
  },
  {
   "cell_type": "code",
   "execution_count": 41,
   "metadata": {
    "scrolled": true
   },
   "outputs": [
    {
     "data": {
      "text/plain": [
       "array([[<matplotlib.axes._subplots.AxesSubplot object at 0x0000023EB5A62288>,\n",
       "        <matplotlib.axes._subplots.AxesSubplot object at 0x0000023EB6B94F08>,\n",
       "        <matplotlib.axes._subplots.AxesSubplot object at 0x0000023EB6BCF608>],\n",
       "       [<matplotlib.axes._subplots.AxesSubplot object at 0x0000023EB6C05F08>,\n",
       "        <matplotlib.axes._subplots.AxesSubplot object at 0x0000023EB6C3EF48>,\n",
       "        <matplotlib.axes._subplots.AxesSubplot object at 0x0000023EB6C7B088>],\n",
       "       [<matplotlib.axes._subplots.AxesSubplot object at 0x0000023EB6CB3188>,\n",
       "        <matplotlib.axes._subplots.AxesSubplot object at 0x0000023EB6CEB288>,\n",
       "        <matplotlib.axes._subplots.AxesSubplot object at 0x0000023EB6CF2E48>]],\n",
       "      dtype=object)"
      ]
     },
     "execution_count": 41,
     "metadata": {},
     "output_type": "execute_result"
    },
    {
     "data": {
      "image/png": "[encoded data removed]",
      "text/plain": [
       "<Figure size 432x288 with 9 Axes>"
      ]
     },
     "metadata": {
      "needs_background": "light"
     },
     "output_type": "display_data"
    }
   ],
   "source": [
    "x_standard.hist()"
   ]
  },
  {
   "cell_type": "code",
   "execution_count": 42,
   "metadata": {},
   "outputs": [
    {
     "data": {
      "text/plain": [
       "pandas.core.series.Series"
      ]
     },
     "execution_count": 42,
     "metadata": {},
     "output_type": "execute_result"
    }
   ],
   "source": [
    "type(y)"
   ]
  },
  {
   "cell_type": "code",
   "execution_count": 43,
   "metadata": {
    "scrolled": true
   },
   "outputs": [],
   "source": [
    "y_reshape = y.to_numpy()\n",
    "y_reshape = y_reshape.reshape(-1,1)"
   ]
  },
  {
   "cell_type": "code",
   "execution_count": 44,
   "metadata": {},
   "outputs": [],
   "source": [
    "scaler = StandardScaler()\n",
    "scaler.fit(y_reshape)\n",
    "y_scaled = scaler.transform(y_reshape)\n",
    "y_standard = pd.DataFrame(y_scaled)"
   ]
  },
  {
   "cell_type": "code",
   "execution_count": 45,
   "metadata": {},
   "outputs": [
    {
     "data": {
      "text/plain": [
       "LinearRegression(copy_X=True, fit_intercept=True, n_jobs=None, normalize=False)"
      ]
     },
     "execution_count": 45,
     "metadata": {},
     "output_type": "execute_result"
    }
   ],
   "source": [
    "from sklearn.model_selection import train_test_split\n",
    "\n",
    "stand_x_train, stand_x_test, stand_y_train, stand_y_test = train_test_split(x_standard, y_standard,\n",
    "                                                                            train_size=0.7, test_size=0.3, random_state=142)\n",
    "\n",
    "from sklearn.linear_model import LinearRegression\n",
    "\n",
    "stand_m_reg = LinearRegression(fit_intercept = True) #fit_intercept -> beta0 생성 여부\n",
    "\n",
    "stand_m_reg.fit(stand_x_train, stand_y_train) "
   ]
  },
  {
   "cell_type": "code",
   "execution_count": 46,
   "metadata": {},
   "outputs": [
    {
     "name": "stdout",
     "output_type": "stream",
     "text": [
      "y = -0.001 + 0.728 x1 + 0.493 x2 + 0.313 x3 + -0.187 x4 + 0.127 x5+ 0.071 x6+ 0.075 x7 + 0.399 x8\n"
     ]
    }
   ],
   "source": [
    "# Make constant value\n",
    "beta0 = stand_m_reg.intercept_\n",
    "\n",
    "# Make other coefficients of independent variables\n",
    "beta1 = stand_m_reg.coef_\n",
    "print('y = {} + {} x1 + {} x2 + {} x3 + {} x4 + {} x5+ {} x6+ {} x7 + {} x8'.format(round(beta0[0],3),\n",
    "                                                                                    round(beta1[0][0],3),\n",
    "                                                                                    round(beta1[0][1],3),\n",
    "                                                                                    round(beta1[0][2],3),\n",
    "                                                                                    round(beta1[0][3],3),\n",
    "                                                                                    round(beta1[0][4],3), \n",
    "                                                                                    round(beta1[0][5],3), \n",
    "                                                                                    round(beta1[0][6],3), \n",
    "                                                                                    round(beta1[0][7],3)))"
   ]
  },
  {
   "cell_type": "code",
   "execution_count": 47,
   "metadata": {},
   "outputs": [
    {
     "data": {
      "image/png": "[encoded data removed]",
      "text/plain": [
       "<Figure size 432x288 with 1 Axes>"
      ]
     },
     "metadata": {
      "needs_background": "light"
     },
     "output_type": "display_data"
    }
   ],
   "source": [
    "stand_y_predict = stand_m_reg.predict(stand_x_test)\n",
    "plt.scatter(stand_y_test,stand_y_predict, alpha=0.4)\n",
    "line = np.linspace(min(stand_y_test.values), max(stand_y_test.values), 1000)\n",
    "plt.plot(line, line, color = 'r')\n",
    "plt.xlabel('stand_y_test')\n",
    "plt.ylabel('stand_y_pred')\n",
    "plt.show()"
   ]
  },
  {
   "cell_type": "code",
   "execution_count": 48,
   "metadata": {},
   "outputs": [],
   "source": [
    "from sklearn.metrics import mean_squared_error, r2_score\n",
    "stand_mse = mean_squared_error(stand_y_test, stand_y_predict)\n",
    "stand_rmse = np.sqrt(stand_mse)"
   ]
  },
  {
   "cell_type": "code",
   "execution_count": 49,
   "metadata": {},
   "outputs": [
    {
     "name": "stdout",
     "output_type": "stream",
     "text": [
      "stand_MSE : 0.396, stand_RMSE : 0.630\n",
      "stand_Variance score : 0.645\n",
      "stand_R2 score : 0.597\n"
     ]
    }
   ],
   "source": [
    "print('stand_MSE : {0:.3f}, stand_RMSE : {1:.3f}'.format(stand_mse,stand_rmse))\n",
    "print('stand_Variance score : {0:.3f}'.format(r2_score(stand_y_test,stand_y_predict)))\n",
    "print('stand_R2 score : {0:.3f}'.format(stand_m_reg.score(stand_x_train, stand_y_train)))"
   ]
  },
  {
   "cell_type": "code",
   "execution_count": 50,
   "metadata": {},
   "outputs": [
    {
     "data": {
      "text/html": [
       "<table class=\"simpletable\">\n",
       "<caption>OLS Regression Results</caption>\n",
       "<tr>\n",
       "  <th>Dep. Variable:</th>            <td>0</td>        <th>  R-squared:         </th> <td>   0.597</td> \n",
       "</tr>\n",
       "<tr>\n",
       "  <th>Model:</th>                   <td>OLS</td>       <th>  Adj. R-squared:    </th> <td>   0.593</td> \n",
       "</tr>\n",
       "<tr>\n",
       "  <th>Method:</th>             <td>Least Squares</td>  <th>  F-statistic:       </th> <td>   132.0</td> \n",
       "</tr>\n",
       "<tr>\n",
       "  <th>Date:</th>             <td>Mon, 01 Jun 2020</td> <th>  Prob (F-statistic):</th> <td>3.92e-135</td>\n",
       "</tr>\n",
       "<tr>\n",
       "  <th>Time:</th>                 <td>01:14:29</td>     <th>  Log-Likelihood:    </th> <td> -675.78</td> \n",
       "</tr>\n",
       "<tr>\n",
       "  <th>No. Observations:</th>      <td>   721</td>      <th>  AIC:               </th> <td>   1370.</td> \n",
       "</tr>\n",
       "<tr>\n",
       "  <th>Df Residuals:</th>          <td>   712</td>      <th>  BIC:               </th> <td>   1411.</td> \n",
       "</tr>\n",
       "<tr>\n",
       "  <th>Df Model:</th>              <td>     8</td>      <th>                     </th>     <td> </td>    \n",
       "</tr>\n",
       "<tr>\n",
       "  <th>Covariance Type:</th>      <td>nonrobust</td>    <th>                     </th>     <td> </td>    \n",
       "</tr>\n",
       "</table>\n",
       "<table class=\"simpletable\">\n",
       "<tr>\n",
       "    <td></td>       <th>coef</th>     <th>std err</th>      <th>t</th>      <th>P>|t|</th>  <th>[0.025</th>    <th>0.975]</th>  \n",
       "</tr>\n",
       "<tr>\n",
       "  <th>const</th> <td>   -0.0013</td> <td>    0.023</td> <td>   -0.058</td> <td> 0.954</td> <td>   -0.047</td> <td>    0.044</td>\n",
       "</tr>\n",
       "<tr>\n",
       "  <th>0</th>     <td>    0.7284</td> <td>    0.063</td> <td>   11.645</td> <td> 0.000</td> <td>    0.606</td> <td>    0.851</td>\n",
       "</tr>\n",
       "<tr>\n",
       "  <th>1</th>     <td>    0.4929</td> <td>    0.062</td> <td>    7.969</td> <td> 0.000</td> <td>    0.371</td> <td>    0.614</td>\n",
       "</tr>\n",
       "<tr>\n",
       "  <th>2</th>     <td>    0.3126</td> <td>    0.057</td> <td>    5.507</td> <td> 0.000</td> <td>    0.201</td> <td>    0.424</td>\n",
       "</tr>\n",
       "<tr>\n",
       "  <th>3</th>     <td>   -0.1875</td> <td>    0.062</td> <td>   -3.019</td> <td> 0.003</td> <td>   -0.309</td> <td>   -0.066</td>\n",
       "</tr>\n",
       "<tr>\n",
       "  <th>4</th>     <td>    0.1267</td> <td>    0.042</td> <td>    3.045</td> <td> 0.002</td> <td>    0.045</td> <td>    0.208</td>\n",
       "</tr>\n",
       "<tr>\n",
       "  <th>5</th>     <td>    0.0707</td> <td>    0.052</td> <td>    1.350</td> <td> 0.178</td> <td>   -0.032</td> <td>    0.173</td>\n",
       "</tr>\n",
       "<tr>\n",
       "  <th>6</th>     <td>    0.0746</td> <td>    0.061</td> <td>    1.215</td> <td> 0.225</td> <td>   -0.046</td> <td>    0.195</td>\n",
       "</tr>\n",
       "<tr>\n",
       "  <th>7</th>     <td>    0.3985</td> <td>    0.024</td> <td>   16.813</td> <td> 0.000</td> <td>    0.352</td> <td>    0.445</td>\n",
       "</tr>\n",
       "</table>\n",
       "<table class=\"simpletable\">\n",
       "<tr>\n",
       "  <th>Omnibus:</th>       <td> 2.181</td> <th>  Durbin-Watson:     </th> <td>   2.008</td>\n",
       "</tr>\n",
       "<tr>\n",
       "  <th>Prob(Omnibus):</th> <td> 0.336</td> <th>  Jarque-Bera (JB):  </th> <td>   2.198</td>\n",
       "</tr>\n",
       "<tr>\n",
       "  <th>Skew:</th>          <td>-0.134</td> <th>  Prob(JB):          </th> <td>   0.333</td>\n",
       "</tr>\n",
       "<tr>\n",
       "  <th>Kurtosis:</th>      <td> 2.959</td> <th>  Cond. No.          </th> <td>    8.70</td>\n",
       "</tr>\n",
       "</table><br/><br/>Warnings:<br/>[1] Standard Errors assume that the covariance matrix of the errors is correctly specified."
      ],
      "text/plain": [
       "<class 'statsmodels.iolib.summary.Summary'>\n",
       "\"\"\"\n",
       "                            OLS Regression Results                            \n",
       "==============================================================================\n",
       "Dep. Variable:                      0   R-squared:                       0.597\n",
       "Model:                            OLS   Adj. R-squared:                  0.593\n",
       "Method:                 Least Squares   F-statistic:                     132.0\n",
       "Date:                Mon, 01 Jun 2020   Prob (F-statistic):          3.92e-135\n",
       "Time:                        01:14:29   Log-Likelihood:                -675.78\n",
       "No. Observations:                 721   AIC:                             1370.\n",
       "Df Residuals:                     712   BIC:                             1411.\n",
       "Df Model:                           8                                         \n",
       "Covariance Type:            nonrobust                                         \n",
       "==============================================================================\n",
       "                 coef    std err          t      P>|t|      [0.025      0.975]\n",
       "------------------------------------------------------------------------------\n",
       "const         -0.0013      0.023     -0.058      0.954      -0.047       0.044\n",
       "0              0.7284      0.063     11.645      0.000       0.606       0.851\n",
       "1              0.4929      0.062      7.969      0.000       0.371       0.614\n",
       "2              0.3126      0.057      5.507      0.000       0.201       0.424\n",
       "3             -0.1875      0.062     -3.019      0.003      -0.309      -0.066\n",
       "4              0.1267      0.042      3.045      0.002       0.045       0.208\n",
       "5              0.0707      0.052      1.350      0.178      -0.032       0.173\n",
       "6              0.0746      0.061      1.215      0.225      -0.046       0.195\n",
       "7              0.3985      0.024     16.813      0.000       0.352       0.445\n",
       "==============================================================================\n",
       "Omnibus:                        2.181   Durbin-Watson:                   2.008\n",
       "Prob(Omnibus):                  0.336   Jarque-Bera (JB):                2.198\n",
       "Skew:                          -0.134   Prob(JB):                        0.333\n",
       "Kurtosis:                       2.959   Cond. No.                         8.70\n",
       "==============================================================================\n",
       "\n",
       "Warnings:\n",
       "[1] Standard Errors assume that the covariance matrix of the errors is correctly specified.\n",
       "\"\"\""
      ]
     },
     "execution_count": 50,
     "metadata": {},
     "output_type": "execute_result"
    }
   ],
   "source": [
    "import statsmodels.api as sm \n",
    "X1 = sm.add_constant(stand_x_train)\n",
    "reg = sm.OLS(stand_y_train, X1).fit()\n",
    "reg.summary()"
   ]
  },
  {
   "cell_type": "markdown",
   "metadata": {},
   "source": [
    "### Standard sclae is not good performance than log scale"
   ]
  }
 ],
 "metadata": {
  "kernelspec": {
   "display_name": "Python 3",
   "language": "python",
   "name": "python3"
  },
  "language_info": {
   "codemirror_mode": {
    "name": "ipython",
    "version": 3
   },
   "file_extension": ".py",
   "mimetype": "text/x-python",
   "name": "python",
   "nbconvert_exporter": "python",
   "pygments_lexer": "ipython3",
   "version": "3.7.4"
  }
 },
 "nbformat": 4,
 "nbformat_minor": 4
}
